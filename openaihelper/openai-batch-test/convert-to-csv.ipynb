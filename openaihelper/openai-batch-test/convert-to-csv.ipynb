{
 "cells": [
  {
   "cell_type": "code",
   "execution_count": 2,
   "id": "d24724c4-1aa6-4662-8d91-5a68c6c7eddf",
   "metadata": {},
   "outputs": [],
   "source": [
    "from pathlib import Path\n",
    "import polars as pl\n",
    "\n",
    "path = Path(\"/kellogg/proj/yqb1050/research/disc_comp/data/def14a/LLM_test/test1\")\n",
    "files = [f.name for f in path.glob(\"*.txt\")]\n",
    "texts = [f.read_text() for f in path.glob(\"*.txt\")]\n",
    "\n",
    "df = pl.from_dict({\"id\": files, \"text\": texts})\n",
    "df.write_csv(\"test.csv\")"
   ]
  },
  {
   "cell_type": "code",
   "execution_count": null,
   "id": "d8816775-38a6-47ce-bc57-41852e5fb32c",
   "metadata": {},
   "outputs": [],
   "source": []
  }
 ],
 "metadata": {
  "kernelspec": {
   "display_name": "LLM Test Env",
   "language": "python",
   "name": "llm-test-env"
  },
  "language_info": {
   "codemirror_mode": {
    "name": "ipython",
    "version": 3
   },
   "file_extension": ".py",
   "mimetype": "text/x-python",
   "name": "python",
   "nbconvert_exporter": "python",
   "pygments_lexer": "ipython3",
   "version": "3.11.9"
  }
 },
 "nbformat": 4,
 "nbformat_minor": 5
}
