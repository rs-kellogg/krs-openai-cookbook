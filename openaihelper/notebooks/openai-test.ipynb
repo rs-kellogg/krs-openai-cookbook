{
 "cells": [
  {
   "cell_type": "code",
   "execution_count": 2,
   "metadata": {},
   "outputs": [],
   "source": [
    "from pathlib import Path\n",
    "from dotenv import load_dotenv\n",
    "import polars as pl\n",
    "import openai\n",
    "import os\n",
    "\n",
    "%load_ext dotenv\n",
    "%dotenv ../openaihelper/.env"
   ]
  },
  {
   "cell_type": "markdown",
   "metadata": {},
   "source": [
    "# Client Creation"
   ]
  },
  {
   "cell_type": "code",
   "execution_count": 7,
   "metadata": {},
   "outputs": [
    {
     "name": "stdout",
     "output_type": "stream",
     "text": [
      "OPENAI_ORG_ID:\torg-\n",
      "OPENAI_PROJ_ID:\tproj_\n",
      "OPENAI_API_KEY:\tsk-\n"
     ]
    }
   ],
   "source": [
    "print(f'OPENAI_ORG_ID:\\t{os.environ[\"OPENAI_ORG_ID\"][:4]}')\n",
    "print(f'OPENAI_PROJ_ID:\\t{os.environ[\"OPENAI_PROJ_ID\"][:5]}')\n",
    "print(f'OPENAI_API_KEY:\\t{os.environ[\"OPENAI_API_KEY\"][:3]}')"
   ]
  },
  {
   "cell_type": "code",
   "execution_count": 3,
   "metadata": {},
   "outputs": [],
   "source": [
    "client = openai.OpenAI(\n",
    "    # organization=os.environ[\"OPENAI_ORG_ID\"],\n",
    "    # project=os.environ[\"OPENAI_PROJ_ID\"],\n",
    "    # api_key=os.environ[\"OPENAI_API_KEY\"],\n",
    ")"
   ]
  },
  {
   "cell_type": "markdown",
   "metadata": {},
   "source": [
    "# Text Generation"
   ]
  },
  {
   "cell_type": "code",
   "execution_count": 4,
   "metadata": {},
   "outputs": [
    {
     "name": "stdout",
     "output_type": "stream",
     "text": [
      "In the realm of code where logic flows,  \n",
      "There lies a dance, where mystery grows,  \n",
      "A concept profound, like whispers in air,  \n",
      "Let me weave you a tale of recursion, rare.  \n",
      "\n",
      "Imagine a mirror, reflecting your face,  \n",
      "It shows you again, in an infinite space,  \n",
      "Each glance reveals what’s already been shown,  \n",
      "A loop of reflections, all on its own.  \n",
      "\n",
      "In programming’s heart, recursion takes flight,  \n",
      "A function calls itself, a curious sight,  \n",
      "To solve a grand puzzle, it breaks it apart,  \n",
      "Like nesting dolls, each holds its own heart.  \n",
      "\n",
      "First, a base case—you must clearly define,  \n",
      "A stopping condition, where all will align,  \n",
      "For without this anchor, the calls will cascade,  \n",
      "Into depths of confusion, where chaos is laid.  \n",
      "\n",
      "With each little call, the problem grows small,  \n",
      "Reducing its size, until it’s nothing at all,  \n",
      "Then back through the layers, the answers return,  \n",
      "A tapestry woven, as lessons we learn.  \n",
      "\n",
      "So, here’s to recursion, both elegant and neat,  \n",
      "A spiral of logic, a rhythm, a beat,  \n",
      "In functions we find, a beauty so rare,  \n",
      "A cycle of thought, in the programmer’s air.  \n",
      "\n",
      "From Fibonacci numbers to factorial dreams,  \n",
      "In each clever twist, the recursion redeems,  \n",
      "A tool of great power, if wielded with care,  \n",
      "In the world of code, it’s a breath of fresh air.\n"
     ]
    }
   ],
   "source": [
    "messages = [\n",
    "    {\"role\": \"system\", \"content\": \"You are a poetic assistant, skilled in explaining complex programming concepts with creative flair.\"},\n",
    "    {\"role\": \"user\", \"content\": \"Compose a poem that explains the concept of recursion in programming.\"},\n",
    "]\n",
    "\n",
    "response = client.chat.completions.create(model=\"gpt-4o-mini\", messages=messages, temperature=0.7)\n",
    "print(response.choices[0].message.content)"
   ]
  },
  {
   "cell_type": "markdown",
   "metadata": {},
   "source": [
    "# Vision Analysis"
   ]
  },
  {
   "cell_type": "code",
   "execution_count": 5,
   "metadata": {},
   "outputs": [
    {
     "name": "stdout",
     "output_type": "stream",
     "text": [
      "Choice(finish_reason='stop', index=0, logprobs=None, message=ChatCompletionMessage(content='The image depicts a large stone head sculpture, likely a famous Olmec colossal head. These heads are characteristic of the Olmec civilization, known for their distinct features and found primarily in Mexico. The sculpture typically represents a ruler or an important figure, showcasing intricate details such as the use of headdresses and facial expressions.', refusal=None, role='assistant', function_call=None, tool_calls=None))\n"
     ]
    }
   ],
   "source": [
    "response = client.chat.completions.create(\n",
    "    model=\"gpt-4o-mini\",\n",
    "    messages=[\n",
    "        {\n",
    "            \"role\": \"user\",\n",
    "            \"content\": [\n",
    "                {\"type\": \"text\", \"text\": \"What’s in this image?\"},\n",
    "                {\n",
    "                    \"type\": \"image_url\",\n",
    "                    \"image_url\": {\n",
    "                        \"url\": \"https://upload.wikimedia.org/wikipedia/commons/3/31/San_Lorenzo_Monument_4_crop.jpg\",\n",
    "                    },\n",
    "                },\n",
    "            ],\n",
    "        }\n",
    "    ],\n",
    "    max_tokens=300,\n",
    ")\n",
    "\n",
    "print(response.choices[0])"
   ]
  },
  {
   "cell_type": "markdown",
   "metadata": {},
   "source": [
    "# JSON Output"
   ]
  },
  {
   "cell_type": "code",
   "execution_count": 6,
   "metadata": {},
   "outputs": [
    {
     "name": "stdout",
     "output_type": "stream",
     "text": [
      "{\n",
      "  \"objects\": [\n",
      "    {\n",
      "      \"object\": \"cup\",\n",
      "      \"color\": \"blue\"\n",
      "    },\n",
      "    {\n",
      "      \"object\": \"plate\",\n",
      "      \"color\": \"green\"\n",
      "    }\n",
      "  ]\n",
      "}\n"
     ]
    }
   ],
   "source": [
    "response = client.chat.completions.create(\n",
    "    model=\"gpt-4o-mini\",\n",
    "    seed=42,\n",
    "    response_format={\"type\": \"json_object\"},\n",
    "    messages=[\n",
    "        {\"role\": \"system\", \"content\": \"You are a helpful assistant designed to output JSON.\"},\n",
    "        {\"role\": \"user\", \"content\": \"What are the objects mentioned in the following sentence, and their colors?: I have a blue cup and a green plate.\"},\n",
    "    ],\n",
    ")\n",
    "print(response.choices[0].message.content)"
   ]
  },
  {
   "cell_type": "markdown",
   "metadata": {},
   "source": [
    "## Process Files in a Directory"
   ]
  },
  {
   "cell_type": "code",
   "execution_count": 13,
   "metadata": {},
   "outputs": [],
   "source": [
    "import logging\n",
    "import json\n",
    "from pathlib import Path\n",
    "from datetime import datetime as dt\n",
    "import openai\n",
    "\n",
    "# log output to a file and to console\n",
    "logger = logging.getLogger(\"openai\")\n",
    "logging.basicConfig(filename=f'openai-{dt.now()}.log', encoding='utf-8', level=logging.INFO)\n",
    "\n",
    "# change the system prompt to whatever you want\n",
    "system_message = \"\"\"\n",
    "I study discretionary compensation (DC) in executive compensation. My research focuses on both positive and negative adjustments within DC. I analyze sentences from SEC Form DEF 14A to determine the use of DC.\n",
    "\n",
    "  Extract and determine:\n",
    "  - `discomp`: 1 if discretionary compensation is exercised, 0 otherwise.\n",
    "  - `posdiscomp`: 1 if positive discretion is exercised (when `discomp` = 1), 0 otherwise.\n",
    "  - `negdiscomp`: -1 if negative discretion is exercised (when `discomp` = 1), 0 otherwise.\n",
    "  - `why`: Extract sentences justifying the above values.\n",
    "  \n",
    "  Please provide the results in a JSON format.\n",
    "\n",
    "\"\"\"\n",
    "\n",
    "client = openai.OpenAI()\n",
    "\n",
    "in_path = Path(\"./data/input\")\n",
    "out_path = Path(\"./data/output\")\n",
    "for file in in_path.glob(\"*.txt\"):\n",
    "    try:\n",
    "        text = file.read_text()\n",
    "        response = client.chat.completions.create(\n",
    "            model=\"gpt-4o-mini\",\n",
    "            seed=42,\n",
    "            temperature=0,\n",
    "            response_format={\"type\": \"json_object\"},\n",
    "            messages=[\n",
    "                {\"role\": \"system\", \"content\": system_message},\n",
    "                {\"role\": \"user\", \"content\": f'\"{text}\"'},\n",
    "            ],\n",
    "        )\n",
    "        logger.info(f\"processed file: {file.name}\")\n",
    "        out_file = out_path / f\"{file.stem}.json\"\n",
    "        out_file.write_text(response.to_json())\n",
    "\n",
    "    except Exception as e:\n",
    "        logger.error(f\"error processing file: {file.name}\")\n",
    "        logger.error(e)\n"
   ]
  },
  {
   "cell_type": "code",
   "execution_count": 17,
   "metadata": {},
   "outputs": [
    {
     "data": {
      "text/plain": [
       "{'id': 'chatcmpl-AAkXXNZnVwOUfugcE6Lf5FPIRP6dE',\n",
       " 'choices': [{'finish_reason': 'stop',\n",
       "   'index': 0,\n",
       "   'logprobs': None,\n",
       "   'message': {'content': '{\\n  \"discomp\": 1,\\n  \"posdiscomp\": 1,\\n  \"negdiscomp\": 0,\\n  \"why\": [\\n    \"The Compensation Committee approved shifting a portion of our executives’ fixed total direct compensation to base salary, with a corresponding reduction to their LTIP target opportunities.\",\\n    \"Mr. Isom’s target bonus opportunity was increased from 175% to 200%, to reflect his promotion to Chief Executive Officer, consistent with the level previously in place for Mr. Parker.\",\\n    \"Consistent with our emphasis on pay for performance and our commitment to long-term value creation for our stockholders, our named executive officers’ total target direct compensation is weighted heavily toward long-term equity awards.\",\\n    \"Due to the CARES Act, PSP2 and PSP3 compensation limits applicable to our named executive officers, the target values of each of the 2022 LTIP awards continued to be significantly reduced, with Mr. Isom’s LTIP target value reduced over 20%, as compared with 2020 levels.\",\\n    \"The Compensation Committee is evaluating the Company’s compensation recoupment policies and will recommend to the Board any changes to the current policy that are necessary or appropriate in light of the recent guidance issued by the SEC.\"\\n  ]\\n}',\n",
       "    'refusal': None,\n",
       "    'role': 'assistant'}}],\n",
       " 'created': 1727125543,\n",
       " 'model': 'gpt-4o-mini-2024-07-18',\n",
       " 'object': 'chat.completion',\n",
       " 'system_fingerprint': 'fp_1bb46167f9',\n",
       " 'usage': {'completion_tokens': 258,\n",
       "  'prompt_tokens': 7432,\n",
       "  'total_tokens': 7690,\n",
       "  'completion_tokens_details': {'reasoning_tokens': 0}}}"
      ]
     },
     "execution_count": 17,
     "metadata": {},
     "output_type": "execute_result"
    }
   ],
   "source": [
    "response_json = json.loads(out_file.read_text())\n",
    "response_json\n"
   ]
  },
  {
   "cell_type": "code",
   "execution_count": 19,
   "metadata": {},
   "outputs": [
    {
     "data": {
      "text/plain": [
       "{'discomp': 1,\n",
       " 'posdiscomp': 1,\n",
       " 'negdiscomp': 0,\n",
       " 'why': ['The Compensation Committee approved shifting a portion of our executives’ fixed total direct compensation to base salary, with a corresponding reduction to their LTIP target opportunities.',\n",
       "  'Mr. Isom’s target bonus opportunity was increased from 175% to 200%, to reflect his promotion to Chief Executive Officer, consistent with the level previously in place for Mr. Parker.',\n",
       "  'Consistent with our emphasis on pay for performance and our commitment to long-term value creation for our stockholders, our named executive officers’ total target direct compensation is weighted heavily toward long-term equity awards.',\n",
       "  'Due to the CARES Act, PSP2 and PSP3 compensation limits applicable to our named executive officers, the target values of each of the 2022 LTIP awards continued to be significantly reduced, with Mr. Isom’s LTIP target value reduced over 20%, as compared with 2020 levels.',\n",
       "  'The Compensation Committee is evaluating the Company’s compensation recoupment policies and will recommend to the Board any changes to the current policy that are necessary or appropriate in light of the recent guidance issued by the SEC.']}"
      ]
     },
     "execution_count": 19,
     "metadata": {},
     "output_type": "execute_result"
    }
   ],
   "source": [
    "json.loads(response_json['choices'][0]['message']['content'])"
   ]
  },
  {
   "cell_type": "code",
   "execution_count": null,
   "metadata": {},
   "outputs": [],
   "source": []
  }
 ],
 "metadata": {
  "kernelspec": {
   "display_name": "pvalue_survey",
   "language": "python",
   "name": "python3"
  },
  "language_info": {
   "codemirror_mode": {
    "name": "ipython",
    "version": 3
   },
   "file_extension": ".py",
   "mimetype": "text/x-python",
   "name": "python",
   "nbconvert_exporter": "python",
   "pygments_lexer": "ipython3",
   "version": "3.12.6"
  }
 },
 "nbformat": 4,
 "nbformat_minor": 2
}
