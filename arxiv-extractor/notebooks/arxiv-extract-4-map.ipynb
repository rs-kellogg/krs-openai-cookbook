{
 "cells": [
  {
   "cell_type": "code",
   "execution_count": 2,
   "metadata": {},
   "outputs": [],
   "source": [
    "import re\n",
    "import json\n",
    "import csv\n",
    "import random\n",
    "from pathlib import Path\n",
    "import pandas as pd\n",
    "import json\n",
    "from tqdm import tqdm\n",
    "import leafmap\n",
    "from datasets import load_dataset\n",
    "from openai import OpenAI"
   ]
  },
  {
   "cell_type": "code",
   "execution_count": 3,
   "metadata": {},
   "outputs": [
    {
     "name": "stdout",
     "output_type": "stream",
     "text": [
      "582\n"
     ]
    },
    {
     "data": {
      "text/html": [
       "<div>\n",
       "<style scoped>\n",
       "    .dataframe tbody tr th:only-of-type {\n",
       "        vertical-align: middle;\n",
       "    }\n",
       "\n",
       "    .dataframe tbody tr th {\n",
       "        vertical-align: top;\n",
       "    }\n",
       "\n",
       "    .dataframe thead th {\n",
       "        text-align: right;\n",
       "    }\n",
       "</style>\n",
       "<table border=\"1\" class=\"dataframe\">\n",
       "  <thead>\n",
       "    <tr style=\"text-align: right;\">\n",
       "      <th></th>\n",
       "      <th>id</th>\n",
       "      <th>author</th>\n",
       "      <th>affiliation</th>\n",
       "      <th>longitude</th>\n",
       "      <th>latitude</th>\n",
       "    </tr>\n",
       "  </thead>\n",
       "  <tbody>\n",
       "    <tr>\n",
       "      <th>0</th>\n",
       "      <td>2310.08338</td>\n",
       "      <td>Charles C. Onu</td>\n",
       "      <td>Ubenwa Health, Montréal, Canada</td>\n",
       "      <td>-73.5673</td>\n",
       "      <td>45.5017</td>\n",
       "    </tr>\n",
       "    <tr>\n",
       "      <th>1</th>\n",
       "      <td>2310.08338</td>\n",
       "      <td>Charles C. Onu</td>\n",
       "      <td>Mila-Québec AI Institute, Montréal, Canada</td>\n",
       "      <td>-73.5673</td>\n",
       "      <td>45.5017</td>\n",
       "    </tr>\n",
       "    <tr>\n",
       "      <th>2</th>\n",
       "      <td>2310.08338</td>\n",
       "      <td>Charles C. Onu</td>\n",
       "      <td>McGill University, Montréal, Canada</td>\n",
       "      <td>-73.5827</td>\n",
       "      <td>45.5048</td>\n",
       "    </tr>\n",
       "    <tr>\n",
       "      <th>3</th>\n",
       "      <td>2310.08338</td>\n",
       "      <td>Samantha Latremouille</td>\n",
       "      <td>Ubenwa Health, Montréal, Canada</td>\n",
       "      <td>-73.5673</td>\n",
       "      <td>45.5017</td>\n",
       "    </tr>\n",
       "    <tr>\n",
       "      <th>4</th>\n",
       "      <td>2310.08338</td>\n",
       "      <td>Arsenii Gorin</td>\n",
       "      <td>Ubenwa Health, Montréal, Canada</td>\n",
       "      <td>-73.5673</td>\n",
       "      <td>45.5017</td>\n",
       "    </tr>\n",
       "  </tbody>\n",
       "</table>\n",
       "</div>"
      ],
      "text/plain": [
       "           id                 author  \\\n",
       "0  2310.08338         Charles C. Onu   \n",
       "1  2310.08338         Charles C. Onu   \n",
       "2  2310.08338         Charles C. Onu   \n",
       "3  2310.08338  Samantha Latremouille   \n",
       "4  2310.08338          Arsenii Gorin   \n",
       "\n",
       "                                  affiliation longitude latitude  \n",
       "0             Ubenwa Health, Montréal, Canada  -73.5673  45.5017  \n",
       "1  Mila-Québec AI Institute, Montréal, Canada  -73.5673  45.5017  \n",
       "2         McGill University, Montréal, Canada  -73.5827  45.5048  \n",
       "3             Ubenwa Health, Montréal, Canada  -73.5673  45.5017  \n",
       "4             Ubenwa Health, Montréal, Canada  -73.5673  45.5017  "
      ]
     },
     "execution_count": 3,
     "metadata": {},
     "output_type": "execute_result"
    }
   ],
   "source": [
    "# df = pd.read_csv(\"./data/arxiv_metadata_output.csv\")\n",
    "df = pd.read_parquet(\"./data/extracted_data.parquet\")\n",
    "print(len(df))\n",
    "df.head()"
   ]
  },
  {
   "cell_type": "code",
   "execution_count": 4,
   "metadata": {},
   "outputs": [
    {
     "data": {
      "application/vnd.jupyter.widget-view+json": {
       "model_id": "fa67ca6e2941486c8de8d6e655da3232",
       "version_major": 2,
       "version_minor": 0
      },
      "text/plain": [
       "Map(center=[20, 0], controls=(ZoomControl(options=['position', 'zoom_in_text', 'zoom_in_title', 'zoom_out_text…"
      ]
     },
     "execution_count": 4,
     "metadata": {},
     "output_type": "execute_result"
    }
   ],
   "source": [
    "map = leafmap.Map()\n",
    "map.add_xy_data(df, x=\"longitude\", y=\"latitude\", layer_name=\"World Cities\")\n",
    "map"
   ]
  },
  {
   "cell_type": "code",
   "execution_count": 5,
   "metadata": {},
   "outputs": [
    {
     "data": {
      "application/vnd.jupyter.widget-view+json": {
       "model_id": "891ebd08096043c5a02f3f83ce5b6e55",
       "version_major": 2,
       "version_minor": 0
      },
      "text/plain": [
       "Map(center=[42.0451, -87.6877], close_popup_on_click=False, controls=(ZoomControl(options=['position', 'zoom_i…"
      ]
     },
     "execution_count": 5,
     "metadata": {},
     "output_type": "execute_result"
    }
   ],
   "source": [
    "from ipywidgets import HTML\n",
    "from ipyleaflet import Map, Marker, Popup\n",
    "\n",
    "center = (42.0451, -87.6877)\n",
    "map2 = Map(center=center, zoom=2, close_popup_on_click=False)\n",
    "\n",
    "\n",
    "for row in list(df.iterrows())[:100]:\n",
    "    marker = Marker(location=(row[1]['latitude'], row[1]['longitude']))\n",
    "    message = HTML()\n",
    "    message.value = f\"{row[1]['author']} <b>{row[1]['affiliation']}</b>\"\n",
    "    message.placeholder = \"Author\"\n",
    "    message.description = \"Author\"\n",
    "    marker.popup = message\n",
    "    map2.add_layer(marker)\n",
    "\n",
    "map2\n"
   ]
  }
 ],
 "metadata": {
  "kernelspec": {
   "display_name": "Python 3",
   "language": "python",
   "name": "python3"
  },
  "language_info": {
   "codemirror_mode": {
    "name": "ipython",
    "version": 3
   },
   "file_extension": ".py",
   "mimetype": "text/x-python",
   "name": "python",
   "nbconvert_exporter": "python",
   "pygments_lexer": "ipython3",
   "version": "3.11.5"
  }
 },
 "nbformat": 4,
 "nbformat_minor": 2
}
