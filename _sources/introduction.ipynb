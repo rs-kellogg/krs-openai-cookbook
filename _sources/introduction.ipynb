{
 "cells": [
  {
   "cell_type": "markdown",
   "metadata": {},
   "source": [
    "# Workshop"
   ]
  },
  {
   "cell_type": "markdown",
   "metadata": {},
   "source": [
    "## Goals"
   ]
  },
  {
   "cell_type": "markdown",
   "metadata": {},
   "source": [
    ":::{admonition} Objective\n",
    "The goals of this workshop are to look at best practices with regard to:\n",
    "\n",
    "- <font color='purple'>**Scaling**</font> jobs using the OpenAI API\n",
    "- <font color='purple'>**Validating**</font> results created using the OpenAI API\n",
    "- <font color='purple'>**Reproducing**</font> results created using the OpenAI API\n",
    ":::"
   ]
  },
  {
   "attachments": {},
   "cell_type": "markdown",
   "id": "95f0a171",
   "metadata": {},
   "source": [
    "## Outline"
   ]
  },
  {
   "cell_type": "markdown",
   "metadata": {},
   "source": [
    ":::{admonition} 1. Introduction\n",
    "- Brief review of Generative Pre-trained Transformers (GPTs)\n",
    "- High-level overview of what you can do with them\n",
    "- OpenAI API setup\n",
    "\n",
    "<font color='purple'>**The focus will be on using the API, not the ChatGPT web application**</font>\n",
    ":::"
   ]
  },
  {
   "cell_type": "markdown",
   "metadata": {},
   "source": [
    ":::{admonition} 2. Use Cases\n",
    "- Text Classification (sentiment analysis)\n",
    "- Speech to Text\n",
    "- Text Analysis (extracting structured information)\n",
    "- Programming Assistance\n",
    "\n",
    "<font color='purple'>**While discussing these use cases, we we will bring in topics like prompt engineering, scaling, validation, and reproducibility**</font>\n",
    ":::"
   ]
  },
  {
   "cell_type": "markdown",
   "metadata": {},
   "source": [
    ":::{admonition} 3. Advanced Topics\n",
    "- Function calling from prompts\n",
    "- Retrival Augmented Generation (RAG)\n",
    "\n",
    "\n",
    "<font color='purple'>**This is a living document, and topics will be updated and extended in the future. Documentation and code is available from the [github repo](https://github.com/rs-kellogg/krs-llm-cookbook)**</font>\n",
    ":::"
   ]
  }
 ],
 "metadata": {
  "interpreter": {
   "hash": "9d7534ecd9fbc7d385378f8400cf4d6cb9c6175408a574f1c99c5269f08771cc"
  },
  "jupytext": {
   "cell_metadata_filter": "-all",
   "encoding": "# -*- coding: utf-8 -*-",
   "formats": "md:myst",
   "main_language": "python"
  },
  "kernelspec": {
   "display_name": "Python 3 (ipykernel)",
   "language": "python",
   "name": "python3"
  },
  "language_info": {
   "codemirror_mode": {
    "name": "ipython",
    "version": 3
   },
   "file_extension": ".py",
   "mimetype": "text/x-python",
   "name": "python",
   "nbconvert_exporter": "python",
   "pygments_lexer": "ipython3",
   "version": "3.11.5"
  },
  "toc-showtags": true
 },
 "nbformat": 4,
 "nbformat_minor": 5
}
