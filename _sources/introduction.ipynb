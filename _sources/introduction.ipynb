{
 "cells": [
  {
   "cell_type": "markdown",
   "metadata": {},
   "source": [
    "# Introduction"
   ]
  },
  {
   "cell_type": "markdown",
   "metadata": {},
   "source": [
    "## Goals"
   ]
  },
  {
   "cell_type": "markdown",
   "metadata": {},
   "source": [
    ":::{admonition} Objective\n",
    "The goals of this session are to help set you up to use the OpenAI API. We will also look at best practices with respect to:\n",
    "\n",
    "- <font color='purple'>**Scaling jobs**</font>\n",
    "- <font color='purple'>**Validating output**</font>\n",
    "- <font color='purple'>**Reproducing results**</font>"
   ]
  },
  {
   "attachments": {},
   "cell_type": "markdown",
   "id": "95f0a171",
   "metadata": {},
   "source": [
    "## Outline"
   ]
  },
  {
   "cell_type": "markdown",
   "id": "7f37a518",
   "metadata": {},
   "source": [
    "\n",
    ":::{admonition} 1. Why use OpenAI\n",
    "\n",
    "There are many models to choose from, both commercial and open source. Why use OpenAI?\n",
    ":::"
   ]
  },
  {
   "cell_type": "markdown",
   "id": "cc7bc504",
   "metadata": {},
   "source": [
    ":::{admonition} 2. OpenAI Setup\n",
    "\n",
    "- <font color='purple'>**Authentication with key tokens**</font>\n",
    "- <font color='purple'>**Watching usage and costs**</font>\n",
    "- <font color='purple'>**Choosing a model**</font>\n",
    ":::"
   ]
  },
  {
   "cell_type": "markdown",
   "id": "8e8b21ad",
   "metadata": {},
   "source": [
    ":::{warning}\n",
    "**The focus will be on using the API, not the ChatGPT web application**\n",
    ":::"
   ]
  },
  {
   "cell_type": "markdown",
   "metadata": {},
   "source": [
    ":::{admonition} 3. Application Workflow\n",
    "\n",
    "We will go through a case example of extracting author information from a collection of [arxiv](https://arxiv.org/) papers. This is a job that can `scale` to many thousands of inputs, will demonstrate `validation` of output, and introduce ways to improve `reproducibility` of results.\n",
    "\n",
    "```{figure} ./images/gpt-dev-cycle.png\n",
    "---\n",
    "width: 500px\n",
    "name: gpt-dev-cycle\n",
    "---\n",
    "```\n",
    ":::"
   ]
  },
  {
   "cell_type": "markdown",
   "id": "12bfdbde",
   "metadata": {},
   "source": []
  }
 ],
 "metadata": {
  "interpreter": {
   "hash": "9d7534ecd9fbc7d385378f8400cf4d6cb9c6175408a574f1c99c5269f08771cc"
  },
  "jupytext": {
   "cell_metadata_filter": "-all",
   "encoding": "# -*- coding: utf-8 -*-",
   "formats": "md:myst",
   "main_language": "python"
  },
  "kernelspec": {
   "display_name": "Python 3 (ipykernel)",
   "language": "python",
   "name": "python3"
  },
  "language_info": {
   "codemirror_mode": {
    "name": "ipython",
    "version": 3
   },
   "file_extension": ".py",
   "mimetype": "text/x-python",
   "name": "python",
   "nbconvert_exporter": "python",
   "pygments_lexer": "ipython3",
   "version": "3.11.5"
  },
  "toc-showtags": true
 },
 "nbformat": 4,
 "nbformat_minor": 5
}
