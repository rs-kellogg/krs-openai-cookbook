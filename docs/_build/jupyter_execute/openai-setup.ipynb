{
 "cells": [
  {
   "cell_type": "markdown",
   "metadata": {},
   "source": [
    "# OpenAI API\n",
    "\n",
    ":::{warning}\n",
    "[OpenAI](https://platform.openai.com/apps) provides two services: a web-based chat application, and an API with programmatic access. Two separate services, two separate accounts\n",
    "\n",
    "```{figure} ./images/chat-vs-api.png\n",
    "---\n",
    "width: 600px\n",
    "name: chat-vs-api\n",
    "---\n",
    "```\n",
    ":::\n"
   ]
  },
  {
   "cell_type": "markdown",
   "metadata": {},
   "source": [
    "## API\n",
    "\n",
    ":::{admonition} OpenAI API\n",
    "The [OpenAI API](https://platform.openai.com/) offers pay as you go service that allows you to write code and automate your interaction with GPT resources. This is the way to go to scale up your jobs to hundreds or thousands of inputs.\n",
    ":::\n",
    "\n",
    ":::{admonition} Platform Offerings\n",
    "```{figure} ./images/openai-platform.png\n",
    "---\n",
    "width: 600px\n",
    "name: openai-platform\n",
    "---\n",
    "```\n",
    ":::"
   ]
  },
  {
   "cell_type": "markdown",
   "metadata": {},
   "source": [
    ":::{adomonition} 1. [Sign up](https://platform.openai.com/docs/overview)\n",
    ":class: note\n",
    ":::"
   ]
  },
  {
   "cell_type": "markdown",
   "metadata": {},
   "source": [
    ":::{adomonition} 2. [Fund your account](https://platform.openai.com/settings/organization/general)\n",
    ":::"
   ]
  },
  {
   "cell_type": "markdown",
   "metadata": {},
   "source": [
    ":::{admonition} 3. [Create an API key](https://platform.openai.com/api-keys)\n",
    "```{figure} ./images/openai-api-keys.png\n",
    "---\n",
    "width: 600px\n",
    "name: openai-keys\n",
    "---\n",
    "```\n",
    ":::"
   ]
  },
  {
   "cell_type": "markdown",
   "metadata": {},
   "source": [
    ":::{card}\n",
    "\n",
    "- Create the key\n",
    "- Save it to disk\n",
    "- <font color='purple'>**Keep it safe!**</font>\n",
    "    * Don't put it in your source code\n",
    "    * [Don't add it to a github repository](https://github.com/rs-kellogg/krs-llm-cookbook/blob/main/.gitignore)\n",
    "    * Be careful about emailing, sharing via dropbox, one drive, etc.\n",
    "    \n",
    "```{figure} ./images/env.png\n",
    "---\n",
    "width: 600px\n",
    "name: env\n",
    "---\n",
    "```\n",
    ":::"
   ]
  },
  {
   "cell_type": "code",
   "execution_count": 1,
   "metadata": {},
   "outputs": [
    {
     "name": "stdout",
     "output_type": "stream",
     "text": [
      "OPENAI_API_KEY: sk-proj-...\n",
      "OPENAI_ORG_ID: org-...\n",
      "OPENAI_PROJ_ID: proj_...\n"
     ]
    }
   ],
   "source": [
    "import os\n",
    "from dotenv import load_dotenv # pip install python-dotenv\n",
    "\n",
    "# load the .env file containing your API key\n",
    "load_dotenv()\n",
    "\n",
    "# display (obfuscated) environment vars\n",
    "print(f\"OPENAI_API_KEY: {os.getenv('OPENAI_API_KEY')[:8]}...\")\n",
    "print(f\"OPENAI_ORG_ID: {os.getenv('OPENAI_ORG_ID')[:4]}...\")\n",
    "print(f\"OPENAI_PROJ_ID: {os.getenv('OPENAI_PROJ_ID')[:5]}...\")"
   ]
  },
  {
   "cell_type": "markdown",
   "metadata": {},
   "source": [
    ":::{adomonition} 4. [Install the API client](https://platform.openai.com/docs/quickstart)\n",
    ":class: note\n",
    ":::"
   ]
  },
  {
   "cell_type": "code",
   "execution_count": 2,
   "metadata": {},
   "outputs": [
    {
     "name": "stdout",
     "output_type": "stream",
     "text": [
      "ChatCompletion(id='chatcmpl-9t4G8x4BIwgF2AeZzBRBET2ZLMral', choices=[Choice(finish_reason='length', index=0, logprobs=None, message=ChatCompletionMessage(content=\"Being in the same room as a lion is an exhilarating and intense experience, requiring a deep understanding of lion behavior, a high level of alertness, and an unwavering respect for the animal's power and instincts. As a lion tamer with a Ph.D. in zoology and an expertise in large cat psychology, I approach interactions with lions with a scientific mindset while prioritizing safety and ethical treatment.\\n\\nThe presence of a lion is awe-inspiring. It is a majestic and formidable creature, exuding power and primal energy. The sheer size and muscular build of the lion are humbling, and its presence commands respect. The sounds a lion makes—whether a low growl or a powerful roar—can resonate through your body, reminding you of the animal's dominance and strength.\\n\\nThe atmosphere in the room may vary depending on the lion's mood and level of training. A well-trained lion that has been habituated to human presence may be calm and somewhat predictable, exhibiting less aggressive behavior if it is used to the routines involved in training or performance. However, it is critical to remember that lions, regardless of training, are wild animals with instincts that can kick in at any moment.\\n\\nWhen interacting with a lion, one must pay close attention to the animal's body\", role='assistant', function_call=None, tool_calls=None))], created=1722911440, model='gpt-4-1106-preview', object='chat.completion', service_tier=None, system_fingerprint=None, usage=CompletionUsage(completion_tokens=256, prompt_tokens=53, total_tokens=309))\n"
     ]
    }
   ],
   "source": [
    "from openai import OpenAI # pip install openai\n",
    "client = OpenAI()\n",
    "\n",
    "response = client.chat.completions.create(\n",
    "  model=\"gpt-4-1106-preview\",\n",
    "  messages=[\n",
    "    {\n",
    "      \"role\": \"system\",\n",
    "      \"content\": \"You are a lion tamer with a Ph.D. in zoology. You love your job and are an expert in large cat psychology.\"\n",
    "    },\n",
    "    {\n",
    "      \"role\": \"user\",\n",
    "      \"content\": \"What is it like to be in the same room as a lion?\"\n",
    "    }\n",
    "  ],\n",
    "  temperature=1,\n",
    "  max_tokens=256,\n",
    "  top_p=1,\n",
    "  frequency_penalty=0,\n",
    "  presence_penalty=0,\n",
    "  seed=42,\n",
    ")\n",
    "\n",
    "print(response)"
   ]
  },
  {
   "cell_type": "code",
   "execution_count": 3,
   "metadata": {
    "tags": [
     "hide-input"
    ]
   },
   "outputs": [],
   "source": [
    "from myst_nb import glue\n",
    "\n",
    "response_text = response.choices[0].message.content\n",
    "glue(\"response_text\", response_text, display=False)"
   ]
  },
  {
   "cell_type": "markdown",
   "metadata": {},
   "source": [
    "{glue:text}`response_text`\n"
   ]
  },
  {
   "cell_type": "markdown",
   "metadata": {},
   "source": [
    ":::{admonition} [Usage](https://platform.openai.com/usage)\n",
    "```{figure} ./images/openai-api-usage.png\n",
    "---\n",
    "width: 600px\n",
    "name: openai-billing\n",
    "---\n",
    "```\n",
    ":::\n",
    "\n",
    ":::{admonition} [Limits](https://platform.openai.com/account/limits)\n",
    "```{figure} ./images/openai-api-limits.png\n",
    "---\n",
    "width: 600px\n",
    "name: openai-limits\n",
    "---\n",
    "```\n",
    ":::\n",
    "\n",
    "\n",
    ":::{admonition} [Billing](https://platform.openai.com/account/billing/overview)\n",
    "```{figure} ./images/openai-api-billing.png\n",
    "---\n",
    "width: 600px\n",
    "name: openai-billing\n",
    "---\n",
    "```\n",
    ":::"
   ]
  },
  {
   "cell_type": "markdown",
   "metadata": {},
   "source": [
    "## Documentation\n",
    "\n",
    ":::{admonition} [Documentation](https://platform.openai.com/docs/introduction)\n",
    "OpenAI provides a *lot* of documentation. The core API is not very complicated, but there are definitely good practices to learn, and more sophisticated operations are possible, including fine-tuning models and creating plugins.\n",
    ":::\n",
    "\n",
    ":::{admonition} [OpenAI API Reference](https://platform.openai.com/docs/api-reference) \n",
    "```{figure} ./images/openai-api-reference.png\n",
    "---\n",
    "width: 600px\n",
    "name: openai-api-reference\n",
    "---\n",
    "```\n",
    ":::\n",
    "\n",
    "\n",
    ":::{admonition} [OpenAI Cookbook](https://cookbook.openai.com/) \n",
    "```{figure} ./images/openai-cookbook.png\n",
    "---\n",
    "width: 600px\n",
    "name: openai-cookbook\n",
    "---\n",
    "```\n",
    ":::"
   ]
  },
  {
   "cell_type": "markdown",
   "metadata": {},
   "source": [
    "## Playground\n",
    "\n",
    ":::{admonition} [Playground](https://platform.openai.com/playground)\n",
    "The OpenAI playground is a great place to try out prompts and settings\n",
    "\n",
    "```{figure} ./images/openai-playground.png\n",
    "---\n",
    "width: 600px\n",
    "name: openai-playground\n",
    "---\n",
    "```\n",
    ":::"
   ]
  },
  {
   "cell_type": "markdown",
   "metadata": {},
   "source": []
  }
 ],
 "metadata": {
  "kernelspec": {
   "display_name": "llm-env",
   "language": "python",
   "name": "python3"
  },
  "language_info": {
   "codemirror_mode": {
    "name": "ipython",
    "version": 3
   },
   "file_extension": ".py",
   "mimetype": "text/x-python",
   "name": "python",
   "nbconvert_exporter": "python",
   "pygments_lexer": "ipython3",
   "version": "3.12.4"
  }
 },
 "nbformat": 4,
 "nbformat_minor": 2
}