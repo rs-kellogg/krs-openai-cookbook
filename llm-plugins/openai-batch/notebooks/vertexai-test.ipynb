{
 "cells": [
  {
   "cell_type": "code",
   "execution_count": 7,
   "metadata": {},
   "outputs": [],
   "source": [
    "import google.auth\n",
    "from google.auth.transport import requests\n",
    "import google.auth.transport.requests\n",
    "import openai"
   ]
  },
  {
   "cell_type": "code",
   "execution_count": 16,
   "metadata": {},
   "outputs": [
    {
     "name": "stdout",
     "output_type": "stream",
     "text": [
      "ChatCompletion(id=None, choices=[Choice(finish_reason='stop', index=0, logprobs=None, message=ChatCompletionMessage(content=\"The sky is blue due to a phenomenon called **Rayleigh scattering**. Here's a breakdown:\\n\\n* **Sunlight:**  Sunlight is made up of all colors of the rainbow.\\n* **Atmosphere:**  Our atmosphere is filled with tiny gas molecules, primarily nitrogen and oxygen.\\n* **Scattering:** When sunlight enters the atmosphere, these tiny molecules scatter the light in all directions.\\n* **Wavelengths:** Blue light has a shorter wavelength than other colors (like red or orange).\\n* **Scattering Intensity:**  Shorter wavelengths (blue) are scattered more strongly than longer wavelengths.\\n\\n**Therefore, the blue light is scattered most intensely by the molecules in our atmosphere, giving the sky its blue color.**\\n\\n**Why isn't the sky always blue?**\\n\\n* **Sunsets and Sunrises:**  As the sun dips below the horizon, sunlight travels through more of the atmosphere. This means more blue light is scattered away, leaving the longer wavelengths (red and orange) to reach our eyes.\\n* **Clouds:** Clouds are made of water droplets that are much larger than air molecules. These larger droplets scatter all wavelengths of light equally, resulting in white clouds.\\n\\nLet me know if you have any other questions! \\n\", refusal=None, role='assistant', function_call=None, tool_calls=None))], created=None, model='google/gemini-1.5-flash-001', object='chat.completion', service_tier=None, system_fingerprint=None, usage=CompletionUsage(completion_tokens=255, prompt_tokens=6, total_tokens=261))\n"
     ]
    }
   ],
   "source": [
    "import openai\n",
    "import vertexai\n",
    "from google.auth import default, transport\n",
    "\n",
    "# TODO(developer): Update and un-comment below lines\n",
    "project_id = 'ksm-rch-support'\n",
    "location = 'us-central1'\n",
    "\n",
    "\n",
    "vertexai.init(project=project_id, location=location)\n",
    "\n",
    "# Programmatically get an access token\n",
    "credentials, _ = default(scopes=[\"https://www.googleapis.com/auth/cloud-platform\"])\n",
    "auth_request = transport.requests.Request()\n",
    "credentials.refresh(auth_request)\n",
    "\n",
    "# # OpenAI Client\n",
    "client = openai.OpenAI(\n",
    "    base_url=f\"https://{location}-aiplatform.googleapis.com/v1beta1/projects/{project_id}/locations/{location}/endpoints/openapi\",\n",
    "    api_key=credentials.token,\n",
    ")\n",
    "\n",
    "response = client.chat.completions.create(\n",
    "    model=\"google/gemini-1.5-flash-001\",\n",
    "    messages=[{\"role\": \"user\", \"content\": \"Why is the sky blue?\"}],\n",
    ")\n",
    "\n",
    "print(response)"
   ]
  },
  {
   "cell_type": "code",
   "execution_count": null,
   "metadata": {},
   "outputs": [],
   "source": []
  }
 ],
 "metadata": {
  "kernelspec": {
   "display_name": "openai-helper",
   "language": "python",
   "name": "python3"
  },
  "language_info": {
   "codemirror_mode": {
    "name": "ipython",
    "version": 3
   },
   "file_extension": ".py",
   "mimetype": "text/x-python",
   "name": "python",
   "nbconvert_exporter": "python",
   "pygments_lexer": "ipython3",
   "version": "3.12.5"
  }
 },
 "nbformat": 4,
 "nbformat_minor": 2
}
