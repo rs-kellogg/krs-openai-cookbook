{
 "cells": [
  {
   "cell_type": "code",
   "execution_count": 7,
   "metadata": {},
   "outputs": [],
   "source": [
    "import re\n",
    "import csv\n",
    "from pathlib import Path\n",
    "import polars as pl\n",
    "from datasets import load_dataset"
   ]
  },
  {
   "cell_type": "markdown",
   "metadata": {},
   "source": [
    "## Load metadata dataset"
   ]
  },
  {
   "cell_type": "markdown",
   "metadata": {},
   "source": [
    "## [Dataset description](https://huggingface.co/datasets/arxiv-community/arxiv_dataset)"
   ]
  },
  {
   "cell_type": "code",
   "execution_count": 8,
   "metadata": {},
   "outputs": [
    {
     "data": {
      "text/html": [
       "<div><style>\n",
       ".dataframe > thead > tr,\n",
       ".dataframe > tbody > tr {\n",
       "  text-align: right;\n",
       "  white-space: pre-wrap;\n",
       "}\n",
       "</style>\n",
       "<small>shape: (5, 12)</small><table border=\"1\" class=\"dataframe\"><thead><tr><th>id</th><th>submitter</th><th>authors</th><th>title</th><th>comments</th><th>journal-ref</th><th>doi</th><th>report-no</th><th>categories</th><th>license</th><th>abstract</th><th>update_date</th></tr><tr><td>str</td><td>str</td><td>str</td><td>str</td><td>str</td><td>str</td><td>str</td><td>str</td><td>str</td><td>str</td><td>str</td><td>str</td></tr></thead><tbody><tr><td>&quot;0704.0001&quot;</td><td>&quot;Pavel Nadolsky&quot;</td><td>&quot;C. Bal\\&#x27;azs, E. L. Berger, P. …</td><td>&quot;Calculation of prompt diphoton…</td><td>&quot;37 pages, 15 figures; publishe…</td><td>&quot;Phys.Rev.D76:013009,2007&quot;</td><td>&quot;10.1103/PhysRevD.76.013009&quot;</td><td>&quot;ANL-HEP-PR-07-12&quot;</td><td>&quot;hep-ph&quot;</td><td>null</td><td>&quot;  A fully differential calcula…</td><td>&quot;2008-11-26&quot;</td></tr><tr><td>&quot;0704.0002&quot;</td><td>&quot;Louis Theran&quot;</td><td>&quot;Ileana Streinu and Louis Thera…</td><td>&quot;Sparsity-certifying Graph Deco…</td><td>&quot;To appear in Graphs and Combin…</td><td>null</td><td>null</td><td>null</td><td>&quot;math.CO cs.CG&quot;</td><td>&quot;http://arxiv.org/licenses/none…</td><td>&quot;  We describe a new algorithm,…</td><td>&quot;2008-12-13&quot;</td></tr><tr><td>&quot;0704.0003&quot;</td><td>&quot;Hongjun Pan&quot;</td><td>&quot;Hongjun Pan&quot;</td><td>&quot;The evolution of the Earth-Moo…</td><td>&quot;23 pages, 3 figures&quot;</td><td>null</td><td>null</td><td>null</td><td>&quot;physics.gen-ph&quot;</td><td>null</td><td>&quot;  The evolution of Earth-Moon …</td><td>&quot;2008-01-13&quot;</td></tr><tr><td>&quot;0704.0004&quot;</td><td>&quot;David Callan&quot;</td><td>&quot;David Callan&quot;</td><td>&quot;A determinant of Stirling cycl…</td><td>&quot;11 pages&quot;</td><td>null</td><td>null</td><td>null</td><td>&quot;math.CO&quot;</td><td>null</td><td>&quot;  We show that a determinant o…</td><td>&quot;2007-05-23&quot;</td></tr><tr><td>&quot;0704.0005&quot;</td><td>&quot;Alberto Torchinsky&quot;</td><td>&quot;Wael Abu-Shammala and Alberto …</td><td>&quot;From dyadic $\\Lambda_{\\alpha}$…</td><td>null</td><td>&quot;Illinois J. Math. 52 (2008) no…</td><td>null</td><td>null</td><td>&quot;math.CA math.FA&quot;</td><td>null</td><td>&quot;  In this paper we show how to…</td><td>&quot;2013-10-15&quot;</td></tr></tbody></table></div>"
      ],
      "text/plain": [
       "shape: (5, 12)\n",
       "┌───────────┬───────────┬───────────┬───────────┬───┬───────────┬───────────┬───────────┬──────────┐\n",
       "│ id        ┆ submitter ┆ authors   ┆ title     ┆ … ┆ categorie ┆ license   ┆ abstract  ┆ update_d │\n",
       "│ ---       ┆ ---       ┆ ---       ┆ ---       ┆   ┆ s         ┆ ---       ┆ ---       ┆ ate      │\n",
       "│ str       ┆ str       ┆ str       ┆ str       ┆   ┆ ---       ┆ str       ┆ str       ┆ ---      │\n",
       "│           ┆           ┆           ┆           ┆   ┆ str       ┆           ┆           ┆ str      │\n",
       "╞═══════════╪═══════════╪═══════════╪═══════════╪═══╪═══════════╪═══════════╪═══════════╪══════════╡\n",
       "│ 0704.0001 ┆ Pavel     ┆ C.        ┆ Calculati ┆ … ┆ hep-ph    ┆ null      ┆ A fully   ┆ 2008-11- │\n",
       "│           ┆ Nadolsky  ┆ Bal\\'azs, ┆ on of     ┆   ┆           ┆           ┆ different ┆ 26       │\n",
       "│           ┆           ┆ E. L.     ┆ prompt    ┆   ┆           ┆           ┆ ial       ┆          │\n",
       "│           ┆           ┆ Berger,   ┆ diphoton… ┆   ┆           ┆           ┆ calcula…  ┆          │\n",
       "│           ┆           ┆ P. …      ┆           ┆   ┆           ┆           ┆           ┆          │\n",
       "│ 0704.0002 ┆ Louis     ┆ Ileana    ┆ Sparsity- ┆ … ┆ math.CO   ┆ http://ar ┆ We        ┆ 2008-12- │\n",
       "│           ┆ Theran    ┆ Streinu   ┆ certifyin ┆   ┆ cs.CG     ┆ xiv.org/l ┆ describe  ┆ 13       │\n",
       "│           ┆           ┆ and Louis ┆ g Graph   ┆   ┆           ┆ icenses/n ┆ a new alg ┆          │\n",
       "│           ┆           ┆ Thera…    ┆ Deco…     ┆   ┆           ┆ one…      ┆ orithm,…  ┆          │\n",
       "│ 0704.0003 ┆ Hongjun   ┆ Hongjun   ┆ The       ┆ … ┆ physics.g ┆ null      ┆ The       ┆ 2008-01- │\n",
       "│           ┆ Pan       ┆ Pan       ┆ evolution ┆   ┆ en-ph     ┆           ┆ evolution ┆ 13       │\n",
       "│           ┆           ┆           ┆ of the    ┆   ┆           ┆           ┆ of Earth- ┆          │\n",
       "│           ┆           ┆           ┆ Earth-Moo ┆   ┆           ┆           ┆ Moon …    ┆          │\n",
       "│           ┆           ┆           ┆ …         ┆   ┆           ┆           ┆           ┆          │\n",
       "│ 0704.0004 ┆ David     ┆ David     ┆ A determi ┆ … ┆ math.CO   ┆ null      ┆ We show   ┆ 2007-05- │\n",
       "│           ┆ Callan    ┆ Callan    ┆ nant of   ┆   ┆           ┆           ┆ that a    ┆ 23       │\n",
       "│           ┆           ┆           ┆ Stirling  ┆   ┆           ┆           ┆ determina ┆          │\n",
       "│           ┆           ┆           ┆ cycl…     ┆   ┆           ┆           ┆ nt o…     ┆          │\n",
       "│ 0704.0005 ┆ Alberto   ┆ Wael Abu- ┆ From      ┆ … ┆ math.CA   ┆ null      ┆ In this   ┆ 2013-10- │\n",
       "│           ┆ Torchinsk ┆ Shammala  ┆ dyadic    ┆   ┆ math.FA   ┆           ┆ paper we  ┆ 15       │\n",
       "│           ┆ y         ┆ and       ┆ $\\Lambda_ ┆   ┆           ┆           ┆ show how  ┆          │\n",
       "│           ┆           ┆ Alberto … ┆ {\\alpha}$ ┆   ┆           ┆           ┆ to…       ┆          │\n",
       "│           ┆           ┆           ┆ …         ┆   ┆           ┆           ┆           ┆          │\n",
       "└───────────┴───────────┴───────────┴───────────┴───┴───────────┴───────────┴───────────┴──────────┘"
      ]
     },
     "execution_count": 8,
     "metadata": {},
     "output_type": "execute_result"
    }
   ],
   "source": [
    "dataset = load_dataset(\"arxiv_dataset\", data_dir='./data', split='train', verification_mode='no_checks')\n",
    "df = dataset.to_polars()\n",
    "df.head()"
   ]
  },
  {
   "cell_type": "markdown",
   "metadata": {},
   "source": [
    "## Filter to PDF collection and append first page of text"
   ]
  },
  {
   "cell_type": "code",
   "execution_count": 15,
   "metadata": {},
   "outputs": [
    {
     "name": "stdout",
     "output_type": "stream",
     "text": [
      "[]\n"
     ]
    }
   ],
   "source": [
    "pdf_files = list(Path(\"./data/pdf\").glob(\"*.pdf\"))\n",
    "pdf_files.sort()\n",
    "print(pdf_files)\n",
    "\n",
    "# text_files = list(Path(\"./data/text\").glob(\"*.txt\"))\n",
    "# text_files.sort()\n",
    "\n",
    "# id_pattern = re.compile(r\"(.+)v\\d+\\.[pdf|txt]\")\n",
    "# ids = [\n",
    "#     id_pattern.match(pdf.name).group(1) for pdf in pdf_files\n",
    "# ]\n",
    "\n",
    "# df_sample = df[df['id'].isin(ids)].copy()\n",
    "\n",
    "# def get_pdf_path(id):\n",
    "#     for pdf in pdf_files:\n",
    "#         if id in str(pdf.stem):\n",
    "#             return pdf.name\n",
    "#     return None\n",
    "\n",
    "# def get_text(id):\n",
    "#     for text in text_files:\n",
    "#         if id in str(text.stem):\n",
    "#             return text.read_text()\n",
    "\n",
    "# df_sample['src_pdf'] = df_sample.apply(lambda row: get_pdf_path(row['id']), axis=1)\n",
    "# df_sample['text'] = df_sample.apply(lambda row: get_text(row['id']), axis=1)\n",
    "# df_sample.dropna(subset = ['src_pdf'], inplace=True)\n",
    "# df_sample.to_csv(\"./data/arxiv_metadata.csv\", index=False, quoting=csv.QUOTE_ALL)\n",
    "# df_sample.to_parquet(\"./data/arxiv_metadata.parquet\", index=False)\n",
    "# print(f\"number of rows: {len(df_sample)}\")\n",
    "# df_sample.head()\n"
   ]
  },
  {
   "cell_type": "code",
   "execution_count": null,
   "metadata": {},
   "outputs": [],
   "source": []
  }
 ],
 "metadata": {
  "kernelspec": {
   "display_name": "Python 3",
   "language": "python",
   "name": "python3"
  },
  "language_info": {
   "codemirror_mode": {
    "name": "ipython",
    "version": 3
   },
   "file_extension": ".py",
   "mimetype": "text/x-python",
   "name": "python",
   "nbconvert_exporter": "python",
   "pygments_lexer": "ipython3",
   "version": "3.12.5"
  }
 },
 "nbformat": 4,
 "nbformat_minor": 2
}
