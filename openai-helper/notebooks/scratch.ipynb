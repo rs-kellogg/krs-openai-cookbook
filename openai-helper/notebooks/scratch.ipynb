{
 "cells": [
  {
   "cell_type": "code",
   "execution_count": 37,
   "metadata": {},
   "outputs": [
    {
     "name": "stdout",
     "output_type": "stream",
     "text": [
      "The dotenv extension is already loaded. To reload it, use:\n",
      "  %reload_ext dotenv\n"
     ]
    }
   ],
   "source": [
    "from pathlib import Path\n",
    "from dotenv import load_dotenv\n",
    "import openai\n",
    "import os\n",
    "\n",
    "%load_ext dotenv\n",
    "%dotenv ../.env"
   ]
  },
  {
   "cell_type": "markdown",
   "metadata": {},
   "source": [
    "# Client Creation"
   ]
  },
  {
   "cell_type": "code",
   "execution_count": 38,
   "metadata": {},
   "outputs": [
    {
     "name": "stdout",
     "output_type": "stream",
     "text": [
      "OPENAI_ORG_ID:\torg-\n",
      "OPENAI_PROJ_ID:\tproj_\n",
      "OPENAI_API_KEY:\tsk-\n"
     ]
    }
   ],
   "source": [
    "print(f'OPENAI_ORG_ID:\\t{os.environ[\"OPENAI_ORG_ID\"][:4]}')\n",
    "print(f'OPENAI_PROJ_ID:\\t{os.environ[\"OPENAI_PROJ_ID\"][:5]}')\n",
    "print(f'OPENAI_API_KEY:\\t{os.environ[\"OPENAI_API_KEY\"][:3]}')"
   ]
  },
  {
   "cell_type": "code",
   "execution_count": 39,
   "metadata": {},
   "outputs": [],
   "source": [
    "client = openai.OpenAI(\n",
    "    organization=os.environ[\"OPENAI_ORG_ID\"],\n",
    "    project=os.environ[\"OPENAI_PROJ_ID\"],\n",
    "    api_key=os.environ[\"OPENAI_API_KEY\"],\n",
    ")"
   ]
  },
  {
   "cell_type": "markdown",
   "metadata": {},
   "source": [
    "# Text Generation"
   ]
  },
  {
   "cell_type": "code",
   "execution_count": 40,
   "metadata": {},
   "outputs": [
    {
     "name": "stdout",
     "output_type": "stream",
     "text": [
      "In the realm of code where logic doth dwell,  \n",
      "There lies a technique, a magical spell.  \n",
      "It’s called recursion, a dance of the mind,  \n",
      "Where functions call forth, their own kind.  \n",
      "\n",
      "Picture a mirror, reflecting a face,  \n",
      "Infinite echoes, a charming embrace.  \n",
      "A function that whispers, “Call me once more,”  \n",
      "Each time it beckons, a new door to explore.  \n",
      "\n",
      "With base cases set, to halt the descent,  \n",
      "A safeguard to guide us, with wise intent.  \n",
      "For without a stopping, we’d spiral and spin,  \n",
      "Lost in the depths, where chaos begins.  \n",
      "\n",
      "“Factorial,” cries one, “Oh, what could it be?”  \n",
      "A number so grand, let’s see how we can see.  \n",
      "To find it, we’ll start with a call to the past,  \n",
      "N! equals N times (N-1)!—that’s the cast.  \n",
      "\n",
      "So we call the function, N-1 it shall greet,  \n",
      "Until we reach one, where the journey’s complete.  \n",
      "Then back up the ladder, results gently flow,  \n",
      "Building the answer, like a beautiful show.  \n",
      "\n",
      "In each step of backtracking, like notes in a song,  \n",
      "Recursion reveals that it’s never too long.  \n",
      "From trees to algorithms, its beauty unfolds,  \n",
      "A fractal of logic, a treasure to hold.  \n",
      "\n",
      "So cherish recursion, this artful design,  \n",
      "A loop within loops, where elegance shines.  \n",
      "In programming’s heart, it finds its sweet place,  \n",
      "A symphony of calls, a dance of grace.  \n"
     ]
    }
   ],
   "source": [
    "messages = [\n",
    "    {\"role\": \"system\", \"content\": \"You are a poetic assistant, skilled in explaining complex programming concepts with creative flair.\"},\n",
    "    {\"role\": \"user\", \"content\": \"Compose a poem that explains the concept of recursion in programming.\"},\n",
    "]\n",
    "\n",
    "response = client.chat.completions.create(model=\"gpt-4o-mini\", messages=messages, temperature=0.7)\n",
    "print(response.choices[0].message.content)"
   ]
  },
  {
   "cell_type": "markdown",
   "metadata": {},
   "source": [
    "# Vision Analysis"
   ]
  },
  {
   "cell_type": "code",
   "execution_count": 41,
   "metadata": {},
   "outputs": [
    {
     "name": "stdout",
     "output_type": "stream",
     "text": [
      "Choice(finish_reason='stop', index=0, logprobs=None, message=ChatCompletionMessage(content='The image features a large stone sculpture representing a head, likely from the Olmec civilization of ancient Mesoamerica. The figure is characterized by a flat, oval face with prominent features, including a broad nose and thick lips. It also displays intricate carvings, such as those resembling headdresses or specific patterns. This type of sculpture is commonly associated with Olmec artistry and is often referred to as an \"Olmec colossal head.\"', role='assistant', function_call=None, tool_calls=None))\n"
     ]
    }
   ],
   "source": [
    "response = client.chat.completions.create(\n",
    "    model=\"gpt-4o-mini\",\n",
    "    messages=[\n",
    "        {\n",
    "            \"role\": \"user\",\n",
    "            \"content\": [\n",
    "                {\"type\": \"text\", \"text\": \"What’s in this image?\"},\n",
    "                {\n",
    "                    \"type\": \"image_url\",\n",
    "                    \"image_url\": {\n",
    "                        \"url\": \"https://upload.wikimedia.org/wikipedia/commons/3/31/San_Lorenzo_Monument_4_crop.jpg\",\n",
    "                    },\n",
    "                },\n",
    "            ],\n",
    "        }\n",
    "    ],\n",
    "    max_tokens=300,\n",
    ")\n",
    "\n",
    "print(response.choices[0])"
   ]
  },
  {
   "cell_type": "markdown",
   "metadata": {},
   "source": [
    "# JSON Output"
   ]
  },
  {
   "cell_type": "code",
   "execution_count": 25,
   "metadata": {},
   "outputs": [
    {
     "name": "stdout",
     "output_type": "stream",
     "text": [
      "{\n",
      "  \"objects\": [\n",
      "    {\n",
      "      \"object\": \"cup\",\n",
      "      \"color\": \"blue\"\n",
      "    },\n",
      "    {\n",
      "      \"object\": \"plate\",\n",
      "      \"color\": \"green\"\n",
      "    }\n",
      "  ]\n",
      "}\n"
     ]
    }
   ],
   "source": [
    "response = client.chat.completions.create(\n",
    "    model=\"gpt-4o-mini\",\n",
    "    seed=42,\n",
    "    response_format={\"type\": \"json_object\"},\n",
    "    messages=[\n",
    "        {\"role\": \"system\", \"content\": \"You are a helpful assistant designed to output JSON.\"},\n",
    "        {\"role\": \"user\", \"content\": \"What are the objects mentioned in the following sentence, and their colors?: I have a blue cup and a green plate.\"},\n",
    "    ],\n",
    ")\n",
    "print(response.choices[0].message.content)"
   ]
  },
  {
   "cell_type": "code",
   "execution_count": null,
   "metadata": {},
   "outputs": [],
   "source": []
  }
 ],
 "metadata": {
  "kernelspec": {
   "display_name": "pvalue_survey",
   "language": "python",
   "name": "python3"
  },
  "language_info": {
   "codemirror_mode": {
    "name": "ipython",
    "version": 3
   },
   "file_extension": ".py",
   "mimetype": "text/x-python",
   "name": "python",
   "nbconvert_exporter": "python",
   "pygments_lexer": "ipython3",
   "version": "3.11.9"
  }
 },
 "nbformat": 4,
 "nbformat_minor": 2
}
