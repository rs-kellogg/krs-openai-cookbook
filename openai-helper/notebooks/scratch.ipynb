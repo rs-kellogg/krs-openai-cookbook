{
 "cells": [
  {
   "cell_type": "code",
   "execution_count": 8,
   "metadata": {},
   "outputs": [
    {
     "name": "stdout",
     "output_type": "stream",
     "text": [
      "The dotenv extension is already loaded. To reload it, use:\n",
      "  %reload_ext dotenv\n"
     ]
    }
   ],
   "source": [
    "from pathlib import Path\n",
    "from dotenv import load_dotenv\n",
    "import polars as pl\n",
    "import openai\n",
    "import os\n",
    "\n",
    "%load_ext dotenv\n",
    "%dotenv ../openaihelper/.env"
   ]
  },
  {
   "cell_type": "markdown",
   "metadata": {},
   "source": [
    "# Client Creation"
   ]
  },
  {
   "cell_type": "code",
   "execution_count": 3,
   "metadata": {},
   "outputs": [
    {
     "name": "stdout",
     "output_type": "stream",
     "text": [
      "OPENAI_ORG_ID:\torg-\n",
      "OPENAI_PROJ_ID:\tproj_\n",
      "OPENAI_API_KEY:\tsk-\n"
     ]
    }
   ],
   "source": [
    "print(f'OPENAI_ORG_ID:\\t{os.environ[\"OPENAI_ORG_ID\"][:4]}')\n",
    "print(f'OPENAI_PROJ_ID:\\t{os.environ[\"OPENAI_PROJ_ID\"][:5]}')\n",
    "print(f'OPENAI_API_KEY:\\t{os.environ[\"OPENAI_API_KEY\"][:3]}')"
   ]
  },
  {
   "cell_type": "code",
   "execution_count": 4,
   "metadata": {},
   "outputs": [],
   "source": [
    "client = openai.OpenAI(\n",
    "    organization=os.environ[\"OPENAI_ORG_ID\"],\n",
    "    project=os.environ[\"OPENAI_PROJ_ID\"],\n",
    "    api_key=os.environ[\"OPENAI_API_KEY\"],\n",
    ")"
   ]
  },
  {
   "cell_type": "markdown",
   "metadata": {},
   "source": [
    "# Text Generation"
   ]
  },
  {
   "cell_type": "code",
   "execution_count": 5,
   "metadata": {},
   "outputs": [
    {
     "name": "stdout",
     "output_type": "stream",
     "text": [
      "In the realm of code where logic flows,  \n",
      "A dance of functions, where wisdom grows.  \n",
      "Let me weave a tale, intricate and fine,  \n",
      "Of recursion's magic, a pattern divine.  \n",
      "\n",
      "Imagine a mirror, reflecting your face,  \n",
      "Each glance revealing a deeper space.  \n",
      "A function calls itself, a loop in the mind,  \n",
      "To solve a great puzzle, solutions to find.  \n",
      "\n",
      "“Here, let me help you,” the function declares,  \n",
      "“For the task you have, I’m well aware.  \n",
      "But first, dear friend, let’s make it small,  \n",
      "Break it down gently, I’ll handle it all.”  \n",
      "\n",
      "In the base case lies wisdom, simple and clear,  \n",
      "A stopping point whispered, so do not fear.  \n",
      "When n equals one, or zero, or less,  \n",
      "The function halts, its journey to rest.  \n",
      "\n",
      "But when it’s not done, it dives once more,  \n",
      "Like a wave in the ocean, it crashes ashore.  \n",
      "Calling itself, with a smaller demand,  \n",
      "Each step a recursion, a helping hand.  \n",
      "\n",
      "Through layers it journeys, through calls it will weave,  \n",
      "Creating a tapestry, if you dare to believe.  \n",
      "A factorial's growth, or the Fibonacci's tale,  \n",
      "Recursion reveals how complexities sail.  \n",
      "\n",
      "Yet heed this sweet lesson, oh coder so keen,  \n",
      "Each loop that you craft must be properly seen.  \n",
      "For if you forget that base case so dear,  \n",
      "Your function will falter, and stack overflow near.  \n",
      "\n",
      "So cherish the beauty of this self-referential art,  \n",
      "In recursion’s embrace, let your logic take part.  \n",
      "A cycle of calls, where solutions unfold,  \n",
      "In the world of programming, let this story be told.\n"
     ]
    }
   ],
   "source": [
    "messages = [\n",
    "    {\"role\": \"system\", \"content\": \"You are a poetic assistant, skilled in explaining complex programming concepts with creative flair.\"},\n",
    "    {\"role\": \"user\", \"content\": \"Compose a poem that explains the concept of recursion in programming.\"},\n",
    "]\n",
    "\n",
    "response = client.chat.completions.create(model=\"gpt-4o-mini\", messages=messages, temperature=0.7)\n",
    "print(response.choices[0].message.content)"
   ]
  },
  {
   "cell_type": "markdown",
   "metadata": {},
   "source": [
    "# Vision Analysis"
   ]
  },
  {
   "cell_type": "code",
   "execution_count": 6,
   "metadata": {},
   "outputs": [
    {
     "name": "stdout",
     "output_type": "stream",
     "text": [
      "Choice(finish_reason='stop', index=0, logprobs=None, message=ChatCompletionMessage(content='The image depicts a large stone head, which is characteristic of the Olmec civilization in ancient Mesoamerica. This specific type of sculpture is typically carved from basalt and represents a stylized human face, often believed to be that of an Olmec ruler or important figure. The head features distinct facial features, such as full lips and a prominent nose, along with headdresses that may indicate status or identity. These colossal heads are part of the rich archaeological heritage of the Olmec culture.', refusal=None, role='assistant', function_call=None, tool_calls=None))\n"
     ]
    }
   ],
   "source": [
    "response = client.chat.completions.create(\n",
    "    model=\"gpt-4o-mini\",\n",
    "    messages=[\n",
    "        {\n",
    "            \"role\": \"user\",\n",
    "            \"content\": [\n",
    "                {\"type\": \"text\", \"text\": \"What’s in this image?\"},\n",
    "                {\n",
    "                    \"type\": \"image_url\",\n",
    "                    \"image_url\": {\n",
    "                        \"url\": \"https://upload.wikimedia.org/wikipedia/commons/3/31/San_Lorenzo_Monument_4_crop.jpg\",\n",
    "                    },\n",
    "                },\n",
    "            ],\n",
    "        }\n",
    "    ],\n",
    "    max_tokens=300,\n",
    ")\n",
    "\n",
    "print(response.choices[0])"
   ]
  },
  {
   "cell_type": "markdown",
   "metadata": {},
   "source": [
    "# JSON Output"
   ]
  },
  {
   "cell_type": "code",
   "execution_count": 25,
   "metadata": {},
   "outputs": [
    {
     "name": "stdout",
     "output_type": "stream",
     "text": [
      "{\n",
      "  \"objects\": [\n",
      "    {\n",
      "      \"object\": \"cup\",\n",
      "      \"color\": \"blue\"\n",
      "    },\n",
      "    {\n",
      "      \"object\": \"plate\",\n",
      "      \"color\": \"green\"\n",
      "    }\n",
      "  ]\n",
      "}\n"
     ]
    }
   ],
   "source": [
    "response = client.chat.completions.create(\n",
    "    model=\"gpt-4o-mini\",\n",
    "    seed=42,\n",
    "    response_format={\"type\": \"json_object\"},\n",
    "    messages=[\n",
    "        {\"role\": \"system\", \"content\": \"You are a helpful assistant designed to output JSON.\"},\n",
    "        {\"role\": \"user\", \"content\": \"What are the objects mentioned in the following sentence, and their colors?: I have a blue cup and a green plate.\"},\n",
    "    ],\n",
    ")\n",
    "print(response.choices[0].message.content)"
   ]
  },
  {
   "cell_type": "code",
   "execution_count": null,
   "metadata": {},
   "outputs": [],
   "source": []
  }
 ],
 "metadata": {
  "kernelspec": {
   "display_name": "pvalue_survey",
   "language": "python",
   "name": "python3"
  },
  "language_info": {
   "codemirror_mode": {
    "name": "ipython",
    "version": 3
   },
   "file_extension": ".py",
   "mimetype": "text/x-python",
   "name": "python",
   "nbconvert_exporter": "python",
   "pygments_lexer": "ipython3",
   "version": "3.12.5"
  }
 },
 "nbformat": 4,
 "nbformat_minor": 2
}
