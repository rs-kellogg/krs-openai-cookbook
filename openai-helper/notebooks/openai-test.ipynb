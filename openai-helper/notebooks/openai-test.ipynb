{
 "cells": [
  {
   "cell_type": "code",
   "execution_count": 1,
   "metadata": {},
   "outputs": [],
   "source": [
    "from pathlib import Path\n",
    "from dotenv import load_dotenv\n",
    "import polars as pl\n",
    "import openai\n",
    "import os\n",
    "\n",
    "%load_ext dotenv\n",
    "%dotenv ../openaihelper/.env"
   ]
  },
  {
   "cell_type": "markdown",
   "metadata": {},
   "source": [
    "# Client Creation"
   ]
  },
  {
   "cell_type": "code",
   "execution_count": 2,
   "metadata": {},
   "outputs": [
    {
     "name": "stdout",
     "output_type": "stream",
     "text": [
      "OPENAI_ORG_ID:\torg-\n",
      "OPENAI_PROJ_ID:\tproj_\n",
      "OPENAI_API_KEY:\tsk-\n"
     ]
    }
   ],
   "source": [
    "print(f'OPENAI_ORG_ID:\\t{os.environ[\"OPENAI_ORG_ID\"][:4]}')\n",
    "print(f'OPENAI_PROJ_ID:\\t{os.environ[\"OPENAI_PROJ_ID\"][:5]}')\n",
    "print(f'OPENAI_API_KEY:\\t{os.environ[\"OPENAI_API_KEY\"][:3]}')"
   ]
  },
  {
   "cell_type": "code",
   "execution_count": 3,
   "metadata": {},
   "outputs": [],
   "source": [
    "client = openai.OpenAI(\n",
    "    # organization=os.environ[\"OPENAI_ORG_ID\"],\n",
    "    # project=os.environ[\"OPENAI_PROJ_ID\"],\n",
    "    # api_key=os.environ[\"OPENAI_API_KEY\"],\n",
    ")"
   ]
  },
  {
   "cell_type": "markdown",
   "metadata": {},
   "source": [
    "# Text Generation"
   ]
  },
  {
   "cell_type": "code",
   "execution_count": 4,
   "metadata": {},
   "outputs": [
    {
     "name": "stdout",
     "output_type": "stream",
     "text": [
      "In the realm of code where logic intertwines,  \n",
      "There lies a concept, like spiraling vines.  \n",
      "Recursion, dear coder, a curious dance,  \n",
      "A function calls itself, given the chance.  \n",
      "\n",
      "Picture a mirror, reflecting its face,  \n",
      "An infinite journey, yet bound by a grace.  \n",
      "With each call it whispers, \"I need to explore,\"  \n",
      "But a base case awaits, at the end of the door.  \n",
      "\n",
      "Like a tale of a hero who ventures afar,  \n",
      "Each step is a chapter, a guiding star.  \n",
      "“Reduce the problem,” it softly implores,  \n",
      "“Until I am simple, and can open the doors.”  \n",
      "\n",
      "In factorials, Fibonacci, or trees that do sway,  \n",
      "Each branch and each leaf finds its own way.  \n",
      "Divide and conquer, a strategy bright,  \n",
      "For solving the puzzle, recursion ignites.  \n",
      "\n",
      "But beware of the depths, where the stack may grow tall,  \n",
      "Too deep in the forest, and you risk a great fall.  \n",
      "So heed well the limits, let base cases sing,  \n",
      "And watch as the magic of recursion takes wing.  \n",
      "\n",
      "In loops we may wander, in sequences straight,  \n",
      "Yet recursion’s sweet spiral can captivate fate.  \n",
      "So embrace this fine art, as you craft and you weave,  \n",
      "In the tapestry of code, let recursion believe.\n"
     ]
    }
   ],
   "source": [
    "messages = [\n",
    "    {\"role\": \"system\", \"content\": \"You are a poetic assistant, skilled in explaining complex programming concepts with creative flair.\"},\n",
    "    {\"role\": \"user\", \"content\": \"Compose a poem that explains the concept of recursion in programming.\"},\n",
    "]\n",
    "\n",
    "response = client.chat.completions.create(model=\"gpt-4o-mini\", messages=messages, temperature=0.7)\n",
    "print(response.choices[0].message.content)"
   ]
  },
  {
   "cell_type": "markdown",
   "metadata": {},
   "source": [
    "# Vision Analysis"
   ]
  },
  {
   "cell_type": "code",
   "execution_count": 6,
   "metadata": {},
   "outputs": [
    {
     "name": "stdout",
     "output_type": "stream",
     "text": [
      "Choice(finish_reason='stop', index=0, logprobs=None, message=ChatCompletionMessage(content='The image depicts a large stone head, which is characteristic of the Olmec civilization in ancient Mesoamerica. This specific type of sculpture is typically carved from basalt and represents a stylized human face, often believed to be that of an Olmec ruler or important figure. The head features distinct facial features, such as full lips and a prominent nose, along with headdresses that may indicate status or identity. These colossal heads are part of the rich archaeological heritage of the Olmec culture.', refusal=None, role='assistant', function_call=None, tool_calls=None))\n"
     ]
    }
   ],
   "source": [
    "response = client.chat.completions.create(\n",
    "    model=\"gpt-4o-mini\",\n",
    "    messages=[\n",
    "        {\n",
    "            \"role\": \"user\",\n",
    "            \"content\": [\n",
    "                {\"type\": \"text\", \"text\": \"What’s in this image?\"},\n",
    "                {\n",
    "                    \"type\": \"image_url\",\n",
    "                    \"image_url\": {\n",
    "                        \"url\": \"https://upload.wikimedia.org/wikipedia/commons/3/31/San_Lorenzo_Monument_4_crop.jpg\",\n",
    "                    },\n",
    "                },\n",
    "            ],\n",
    "        }\n",
    "    ],\n",
    "    max_tokens=300,\n",
    ")\n",
    "\n",
    "print(response.choices[0])"
   ]
  },
  {
   "cell_type": "markdown",
   "metadata": {},
   "source": [
    "# JSON Output"
   ]
  },
  {
   "cell_type": "code",
   "execution_count": 25,
   "metadata": {},
   "outputs": [
    {
     "name": "stdout",
     "output_type": "stream",
     "text": [
      "{\n",
      "  \"objects\": [\n",
      "    {\n",
      "      \"object\": \"cup\",\n",
      "      \"color\": \"blue\"\n",
      "    },\n",
      "    {\n",
      "      \"object\": \"plate\",\n",
      "      \"color\": \"green\"\n",
      "    }\n",
      "  ]\n",
      "}\n"
     ]
    }
   ],
   "source": [
    "response = client.chat.completions.create(\n",
    "    model=\"gpt-4o-mini\",\n",
    "    seed=42,\n",
    "    response_format={\"type\": \"json_object\"},\n",
    "    messages=[\n",
    "        {\"role\": \"system\", \"content\": \"You are a helpful assistant designed to output JSON.\"},\n",
    "        {\"role\": \"user\", \"content\": \"What are the objects mentioned in the following sentence, and their colors?: I have a blue cup and a green plate.\"},\n",
    "    ],\n",
    ")\n",
    "print(response.choices[0].message.content)"
   ]
  },
  {
   "cell_type": "code",
   "execution_count": null,
   "metadata": {},
   "outputs": [],
   "source": []
  }
 ],
 "metadata": {
  "kernelspec": {
   "display_name": "pvalue_survey",
   "language": "python",
   "name": "python3"
  },
  "language_info": {
   "codemirror_mode": {
    "name": "ipython",
    "version": 3
   },
   "file_extension": ".py",
   "mimetype": "text/x-python",
   "name": "python",
   "nbconvert_exporter": "python",
   "pygments_lexer": "ipython3",
   "version": "3.12.5"
  }
 },
 "nbformat": 4,
 "nbformat_minor": 2
}
