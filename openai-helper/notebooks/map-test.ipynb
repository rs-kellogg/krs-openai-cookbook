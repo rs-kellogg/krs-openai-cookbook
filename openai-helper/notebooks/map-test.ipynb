{
 "cells": [
  {
   "cell_type": "code",
   "execution_count": 3,
   "metadata": {},
   "outputs": [],
   "source": [
    "import leafmap\n",
    "import pandas as pd"
   ]
  },
  {
   "cell_type": "code",
   "execution_count": 4,
   "metadata": {},
   "outputs": [
    {
     "data": {
      "application/vnd.jupyter.widget-view+json": {
       "model_id": "3da17df9a37945d088b59aad42d74094",
       "version_major": 2,
       "version_minor": 0
      },
      "text/plain": [
       "Map(center=[20, 0], controls=(ZoomControl(options=['position', 'zoom_in_text', 'zoom_in_title', 'zoom_out_text…"
      ]
     },
     "execution_count": 4,
     "metadata": {},
     "output_type": "execute_result"
    }
   ],
   "source": [
    "m = leafmap.Map()\n",
    "m"
   ]
  },
  {
   "cell_type": "code",
   "execution_count": 5,
   "metadata": {},
   "outputs": [
    {
     "data": {
      "text/html": [
       "<div>\n",
       "<style scoped>\n",
       "    .dataframe tbody tr th:only-of-type {\n",
       "        vertical-align: middle;\n",
       "    }\n",
       "\n",
       "    .dataframe tbody tr th {\n",
       "        vertical-align: top;\n",
       "    }\n",
       "\n",
       "    .dataframe thead th {\n",
       "        text-align: right;\n",
       "    }\n",
       "</style>\n",
       "<table border=\"1\" class=\"dataframe\">\n",
       "  <thead>\n",
       "    <tr style=\"text-align: right;\">\n",
       "      <th></th>\n",
       "      <th>id</th>\n",
       "      <th>name</th>\n",
       "      <th>country</th>\n",
       "      <th>latitude</th>\n",
       "      <th>longitude</th>\n",
       "      <th>population</th>\n",
       "    </tr>\n",
       "  </thead>\n",
       "  <tbody>\n",
       "    <tr>\n",
       "      <th>0</th>\n",
       "      <td>1</td>\n",
       "      <td>Bombo</td>\n",
       "      <td>UGA</td>\n",
       "      <td>0.58330</td>\n",
       "      <td>32.53330</td>\n",
       "      <td>75000</td>\n",
       "    </tr>\n",
       "    <tr>\n",
       "      <th>1</th>\n",
       "      <td>2</td>\n",
       "      <td>Fort Portal</td>\n",
       "      <td>UGA</td>\n",
       "      <td>0.67100</td>\n",
       "      <td>30.27500</td>\n",
       "      <td>42670</td>\n",
       "    </tr>\n",
       "    <tr>\n",
       "      <th>2</th>\n",
       "      <td>3</td>\n",
       "      <td>Potenza</td>\n",
       "      <td>ITA</td>\n",
       "      <td>40.64200</td>\n",
       "      <td>15.79900</td>\n",
       "      <td>69060</td>\n",
       "    </tr>\n",
       "    <tr>\n",
       "      <th>3</th>\n",
       "      <td>4</td>\n",
       "      <td>Campobasso</td>\n",
       "      <td>ITA</td>\n",
       "      <td>41.56300</td>\n",
       "      <td>14.65600</td>\n",
       "      <td>50762</td>\n",
       "    </tr>\n",
       "    <tr>\n",
       "      <th>4</th>\n",
       "      <td>5</td>\n",
       "      <td>Aosta</td>\n",
       "      <td>ITA</td>\n",
       "      <td>45.73700</td>\n",
       "      <td>7.31500</td>\n",
       "      <td>34062</td>\n",
       "    </tr>\n",
       "    <tr>\n",
       "      <th>...</th>\n",
       "      <td>...</td>\n",
       "      <td>...</td>\n",
       "      <td>...</td>\n",
       "      <td>...</td>\n",
       "      <td>...</td>\n",
       "      <td>...</td>\n",
       "    </tr>\n",
       "    <tr>\n",
       "      <th>1244</th>\n",
       "      <td>1245</td>\n",
       "      <td>Rio de Janeiro</td>\n",
       "      <td>BRA</td>\n",
       "      <td>-22.92502</td>\n",
       "      <td>-43.22502</td>\n",
       "      <td>11748000</td>\n",
       "    </tr>\n",
       "    <tr>\n",
       "      <th>1245</th>\n",
       "      <td>1246</td>\n",
       "      <td>Sao Paulo</td>\n",
       "      <td>BRA</td>\n",
       "      <td>-23.55868</td>\n",
       "      <td>-46.62502</td>\n",
       "      <td>18845000</td>\n",
       "    </tr>\n",
       "    <tr>\n",
       "      <th>1246</th>\n",
       "      <td>1247</td>\n",
       "      <td>Sydney</td>\n",
       "      <td>AUS</td>\n",
       "      <td>-33.92001</td>\n",
       "      <td>151.18518</td>\n",
       "      <td>4630000</td>\n",
       "    </tr>\n",
       "    <tr>\n",
       "      <th>1247</th>\n",
       "      <td>1248</td>\n",
       "      <td>Singapore</td>\n",
       "      <td>SGP</td>\n",
       "      <td>1.29303</td>\n",
       "      <td>103.85582</td>\n",
       "      <td>5183700</td>\n",
       "    </tr>\n",
       "    <tr>\n",
       "      <th>1248</th>\n",
       "      <td>1249</td>\n",
       "      <td>Hong Kong</td>\n",
       "      <td>CHN</td>\n",
       "      <td>22.30498</td>\n",
       "      <td>114.18501</td>\n",
       "      <td>7206000</td>\n",
       "    </tr>\n",
       "  </tbody>\n",
       "</table>\n",
       "<p>1249 rows × 6 columns</p>\n",
       "</div>"
      ],
      "text/plain": [
       "        id            name country  latitude  longitude  population\n",
       "0        1           Bombo     UGA   0.58330   32.53330       75000\n",
       "1        2     Fort Portal     UGA   0.67100   30.27500       42670\n",
       "2        3         Potenza     ITA  40.64200   15.79900       69060\n",
       "3        4      Campobasso     ITA  41.56300   14.65600       50762\n",
       "4        5           Aosta     ITA  45.73700    7.31500       34062\n",
       "...    ...             ...     ...       ...        ...         ...\n",
       "1244  1245  Rio de Janeiro     BRA -22.92502  -43.22502    11748000\n",
       "1245  1246       Sao Paulo     BRA -23.55868  -46.62502    18845000\n",
       "1246  1247          Sydney     AUS -33.92001  151.18518     4630000\n",
       "1247  1248       Singapore     SGP   1.29303  103.85582     5183700\n",
       "1248  1249       Hong Kong     CHN  22.30498  114.18501     7206000\n",
       "\n",
       "[1249 rows x 6 columns]"
      ]
     },
     "execution_count": 5,
     "metadata": {},
     "output_type": "execute_result"
    }
   ],
   "source": [
    "in_csv = \"https://raw.githubusercontent.com/opengeos/data/main/world/world_cities.csv\"\n",
    "df = leafmap.csv_to_df(in_csv)\n",
    "df"
   ]
  },
  {
   "cell_type": "code",
   "execution_count": 6,
   "metadata": {},
   "outputs": [
    {
     "name": "stdout",
     "output_type": "stream",
     "text": [
      "          id                       name country  latitude  longitude  \\\n",
      "1224  100000  New York City Alternative     USA  40.74998  -73.98002   \n",
      "\n",
      "      population  \n",
      "1224    19040000  \n"
     ]
    }
   ],
   "source": [
    "df_row = df[df[\"name\"] == \"New York\"]\n",
    "df_row[\"id\"] = 100000\n",
    "df_row[\"name\"] = \"New York City Alternative\"\n",
    "# df_row['latitude'] = df_row['latitude'] + 0.002\n",
    "print(df_row)\n",
    "df_new = pd.concat([df, df_row])"
   ]
  },
  {
   "cell_type": "code",
   "execution_count": 7,
   "metadata": {},
   "outputs": [
    {
     "data": {
      "application/vnd.jupyter.widget-view+json": {
       "model_id": "c6638f4c74c54a4f81cb4df5a46c948f",
       "version_major": 2,
       "version_minor": 0
      },
      "text/plain": [
       "Map(center=[20, 0], controls=(ZoomControl(options=['position', 'zoom_in_text', 'zoom_in_title', 'zoom_out_text…"
      ]
     },
     "execution_count": 7,
     "metadata": {},
     "output_type": "execute_result"
    }
   ],
   "source": [
    "map = leafmap.Map()\n",
    "map.add_xy_data(df, x=\"longitude\", y=\"latitude\", layer_name=\"World Cities\")\n",
    "map"
   ]
  },
  {
   "cell_type": "code",
   "execution_count": 9,
   "metadata": {},
   "outputs": [
    {
     "data": {
      "application/vnd.jupyter.widget-view+json": {
       "model_id": "a8d4829109ba455380eb699295d0e24a",
       "version_major": 2,
       "version_minor": 0
      },
      "text/plain": [
       "Map(center=[52.204793, 360.121558], close_popup_on_click=False, controls=(ZoomControl(options=['position', 'zo…"
      ]
     },
     "execution_count": 9,
     "metadata": {},
     "output_type": "execute_result"
    }
   ],
   "source": [
    "from ipywidgets import HTML\n",
    "\n",
    "from ipyleaflet import Map, Marker, Popup\n",
    "\n",
    "center = (52.204793, 360.121558)\n",
    "\n",
    "m = Map(center=center, zoom=9, close_popup_on_click=False)\n",
    "\n",
    "marker = Marker(location=(52.1, 359.9))\n",
    "m.add_layer(marker)\n",
    "\n",
    "message1 = HTML()\n",
    "message2 = HTML()\n",
    "message1.value = \"Try clicking the marker!\"\n",
    "message2.value = \"Hello <b>World</b>\"\n",
    "message2.placeholder = \"Some HTML\"\n",
    "message2.description = \"Some HTML\"\n",
    "\n",
    "\n",
    "# Popup associated to a layer\n",
    "marker.popup = message2\n",
    "\n",
    "m"
   ]
  },
  {
   "cell_type": "code",
   "execution_count": null,
   "metadata": {},
   "outputs": [],
   "source": []
  }
 ],
 "metadata": {
  "kernelspec": {
   "display_name": "llm-env",
   "language": "python",
   "name": "python3"
  },
  "language_info": {
   "codemirror_mode": {
    "name": "ipython",
    "version": 3
   },
   "file_extension": ".py",
   "mimetype": "text/x-python",
   "name": "python",
   "nbconvert_exporter": "python",
   "pygments_lexer": "ipython3",
   "version": "3.12.5"
  }
 },
 "nbformat": 4,
 "nbformat_minor": 2
}
