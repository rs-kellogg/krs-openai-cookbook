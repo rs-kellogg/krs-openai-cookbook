{
 "cells": [
  {
   "cell_type": "code",
   "execution_count": 3,
   "metadata": {},
   "outputs": [],
   "source": [
    "import json\n",
    "import openai\n",
    "import os\n",
    "import pandas as pd\n",
    "from pprint import pprint\n",
    "\n",
    "# api_file =\"__api_file_path__\"\n",
    "with open(api_file, 'r') as f:\n",
    "    openai.api_key = f.read().strip()"
   ]
  },
  {
   "cell_type": "markdown",
   "metadata": {},
   "source": [
    "### Reference\n",
    "Full detailed information about fine-tuning can be found in the OpenAI cookbook for [\"How to fine-tune chat models\"](https://cookbook.openai.com/examples/how_to_finetune_chat_models).  \n",
    "This notebook adapts code from the above cookbook and applied it to a new project.\n",
    "\n",
    "### Fine-tuning project: formatted output from news headlines\n",
    "We demonstrate fine tuning with news headline data from [Kaggle](https://www.kaggle.com/datasets/rmisra/news-category-dataset/)\n",
    "\n",
    "- Misra, Rishabh. \"News Category Dataset.\" arXiv preprint arXiv:2209.11429 (2022).\n",
    "- Misra, Rishabh and Jigyasa Grover. \"Sculpting Data for ML: The first act of Machine Learning.\" ISBN 9798585463570 (2021).\n",
    "\n",
    "For demonstration purpose, we reduce the data sample size by taking out the first 100 entries in each category of business, politics, travel, sports and wellness. We then shuffle the entries to create the news.csv file for this notebook."
   ]
  },
  {
   "cell_type": "code",
   "execution_count": 4,
   "metadata": {},
   "outputs": [
    {
     "data": {
      "text/html": [
       "<div>\n",
       "<style scoped>\n",
       "    .dataframe tbody tr th:only-of-type {\n",
       "        vertical-align: middle;\n",
       "    }\n",
       "\n",
       "    .dataframe tbody tr th {\n",
       "        vertical-align: top;\n",
       "    }\n",
       "\n",
       "    .dataframe thead th {\n",
       "        text-align: right;\n",
       "    }\n",
       "</style>\n",
       "<table border=\"1\" class=\"dataframe\">\n",
       "  <thead>\n",
       "    <tr style=\"text-align: right;\">\n",
       "      <th></th>\n",
       "      <th>link</th>\n",
       "      <th>headline</th>\n",
       "      <th>category</th>\n",
       "      <th>short_description</th>\n",
       "      <th>authors</th>\n",
       "      <th>date</th>\n",
       "    </tr>\n",
       "  </thead>\n",
       "  <tbody>\n",
       "    <tr>\n",
       "      <th>0</th>\n",
       "      <td>https://www.huffingtonpost.com/entry/swoon-the...</td>\n",
       "      <td>*Swoon*: The Dreamy Italian Villa From ‘Call M...</td>\n",
       "      <td>TRAVEL</td>\n",
       "      <td>We’re calling our broker ASAP.</td>\n",
       "      <td>PureWow, Editorial Partner</td>\n",
       "      <td>2018-02-27</td>\n",
       "    </tr>\n",
       "    <tr>\n",
       "      <th>1</th>\n",
       "      <td>https://www.huffingtonpost.com/entry/errol-mus...</td>\n",
       "      <td>Elon Musk's Estranged Father Has Child With St...</td>\n",
       "      <td>BUSINESS</td>\n",
       "      <td>The young woman was only 4 years old when Erro...</td>\n",
       "      <td>Jenna Amatulli</td>\n",
       "      <td>2018-03-26</td>\n",
       "    </tr>\n",
       "    <tr>\n",
       "      <th>2</th>\n",
       "      <td>https://www.huffingtonpost.com/entry/toys-r-us...</td>\n",
       "      <td>This Sad Version Of The Toys R Us Jingle Will ...</td>\n",
       "      <td>BUSINESS</td>\n",
       "      <td>Sniff.</td>\n",
       "      <td>Ed Mazza</td>\n",
       "      <td>2018-03-16</td>\n",
       "    </tr>\n",
       "    <tr>\n",
       "      <th>3</th>\n",
       "      <td>https://www.huffpost.com/entry/biden-climate-e...</td>\n",
       "      <td>Biden Takes Modest Executive Action After Clim...</td>\n",
       "      <td>POLITICS</td>\n",
       "      <td>The executive push includes $2.3 billion in cl...</td>\n",
       "      <td>Chris D'Angelo</td>\n",
       "      <td>2022-07-20</td>\n",
       "    </tr>\n",
       "    <tr>\n",
       "      <th>4</th>\n",
       "      <td>https://www.huffingtonpost.com/entry/lonely-pl...</td>\n",
       "      <td>Lonely Planet's Top European Destinations Of 2...</td>\n",
       "      <td>TRAVEL</td>\n",
       "      <td>These underrated travel destinations in Europe...</td>\n",
       "      <td>Brittany Nims</td>\n",
       "      <td>2018-05-22</td>\n",
       "    </tr>\n",
       "  </tbody>\n",
       "</table>\n",
       "</div>"
      ],
      "text/plain": [
       "                                                link  \\\n",
       "0  https://www.huffingtonpost.com/entry/swoon-the...   \n",
       "1  https://www.huffingtonpost.com/entry/errol-mus...   \n",
       "2  https://www.huffingtonpost.com/entry/toys-r-us...   \n",
       "3  https://www.huffpost.com/entry/biden-climate-e...   \n",
       "4  https://www.huffingtonpost.com/entry/lonely-pl...   \n",
       "\n",
       "                                            headline  category  \\\n",
       "0  *Swoon*: The Dreamy Italian Villa From ‘Call M...    TRAVEL   \n",
       "1  Elon Musk's Estranged Father Has Child With St...  BUSINESS   \n",
       "2  This Sad Version Of The Toys R Us Jingle Will ...  BUSINESS   \n",
       "3  Biden Takes Modest Executive Action After Clim...  POLITICS   \n",
       "4  Lonely Planet's Top European Destinations Of 2...    TRAVEL   \n",
       "\n",
       "                                   short_description  \\\n",
       "0                     We’re calling our broker ASAP.   \n",
       "1  The young woman was only 4 years old when Erro...   \n",
       "2                                             Sniff.   \n",
       "3  The executive push includes $2.3 billion in cl...   \n",
       "4  These underrated travel destinations in Europe...   \n",
       "\n",
       "                      authors        date  \n",
       "0  PureWow, Editorial Partner  2018-02-27  \n",
       "1              Jenna Amatulli  2018-03-26  \n",
       "2                    Ed Mazza  2018-03-16  \n",
       "3              Chris D'Angelo  2022-07-20  \n",
       "4               Brittany Nims  2018-05-22  "
      ]
     },
     "execution_count": 4,
     "metadata": {},
     "output_type": "execute_result"
    }
   ],
   "source": [
    "filename = 'news.csv'\n",
    "news_df = pd.read_csv(filename)\n",
    "news_df.head()"
   ]
  },
  {
   "cell_type": "markdown",
   "metadata": {},
   "source": [
    "#### Data preparation\n",
    "- Create helper function for composing messages"
   ]
  },
  {
   "cell_type": "code",
   "execution_count": 5,
   "metadata": {},
   "outputs": [
    {
     "name": "stdout",
     "output_type": "stream",
     "text": [
      "{'messages': [{'content': 'You are a expert news editor. You give author name '\n",
      "                          'and sort news headline into 5 categories: BUSINESS, '\n",
      "                          'POLITICS, TRAVEL, SPORTS, WELLNESS.',\n",
      "               'role': 'system'},\n",
      "              {'content': 'Headline: *Swoon*: The Dreamy Italian Villa From '\n",
      "                          '‘Call Me By Your Name’ Is For Sale\\n'\n",
      "                          '\\n'\n",
      "                          ' Author: PureWow, Editorial Partner\\n'\n",
      "                          '\\n',\n",
      "               'role': 'user'},\n",
      "              {'content': 'This is a TRAVEL piece by PureWow, Editorial '\n",
      "                          'Partner',\n",
      "               'role': 'assistant'}]}\n"
     ]
    }
   ],
   "source": [
    "# Create functions for generating messages\n",
    "system_message = \"You are a expert news editor. You give author name and sort news headline into 5 categories: BUSINESS, POLITICS, TRAVEL, SPORTS, WELLNESS.\"\n",
    "\n",
    "def create_user_message(row):\n",
    "    return f\"\"\"Headline: {row['headline']}\\n\\n Author: {row['authors']}\\n\\n\"\"\"\n",
    "\n",
    "def create_assistant_message(row):\n",
    "    return f\"This is a {row['category']} piece by {row['authors']}\" \n",
    "\n",
    "def prepare_example_conversation(row):\n",
    "    messages = []\n",
    "    messages.append({\"role\": \"system\", \"content\": system_message})\n",
    "\n",
    "    user_message = create_user_message(row)\n",
    "    messages.append({\"role\": \"user\", \"content\": user_message})\n",
    "\n",
    "    assist_message = create_assistant_message(row)\n",
    "    messages.append({\"role\": \"assistant\", \"content\": assist_message}) \n",
    "\n",
    "    return {\"messages\": messages}\n",
    "\n",
    "pprint(prepare_example_conversation(news_df.iloc[0]))\n",
    "# pprint(prepare_example_conversation(news_df.iloc[1]))"
   ]
  },
  {
   "cell_type": "markdown",
   "metadata": {},
   "source": [
    "- Create training and validation data set"
   ]
  },
  {
   "cell_type": "code",
   "execution_count": 30,
   "metadata": {},
   "outputs": [
    {
     "name": "stdout",
     "output_type": "stream",
     "text": [
      "{'messages': [{'role': 'system', 'content': 'You are a expert news editor. You give author name and sort news headline into 5 categories: BUSINESS, POLITICS, TRAVEL, SPORTS, WELLNESS.'}, {'role': 'user', 'content': 'Headline: *Swoon*: The Dreamy Italian Villa From ‘Call Me By Your Name’ Is For Sale\\n\\n Author: PureWow, Editorial Partner\\n\\n'}, {'role': 'assistant', 'content': 'This is a TRAVEL piece by PureWow, Editorial Partner'}]}\n",
      "{'messages': [{'role': 'system', 'content': 'You are a expert news editor. You give author name and sort news headline into 5 categories: BUSINESS, POLITICS, TRAVEL, SPORTS, WELLNESS.'}, {'role': 'user', 'content': \"Headline: Elon Musk's Estranged Father Has Child With Stepdaughter, Says It's 'God's Plan'\\n\\n Author: Jenna Amatulli\\n\\n\"}, {'role': 'assistant', 'content': 'This is a BUSINESS piece by Jenna Amatulli'}]}\n"
     ]
    }
   ],
   "source": [
    "# use the first 21 rows of the dataset for training\n",
    "training_df = news_df.loc[0:20]\n",
    "\n",
    "# apply the prepare_example_conversation function to each row of the training_df\n",
    "training_data = training_df.apply(prepare_example_conversation, axis=1).tolist()\n",
    "\n",
    "for example in training_data[:2]:\n",
    "    print(example)"
   ]
  },
  {
   "cell_type": "code",
   "execution_count": 31,
   "metadata": {},
   "outputs": [],
   "source": [
    "validation_df = news_df.loc[21:30]\n",
    "validation_data = validation_df.apply(prepare_example_conversation, axis=1).tolist()"
   ]
  },
  {
   "cell_type": "markdown",
   "metadata": {},
   "source": [
    "- Write training and validation data to the required jsonl format"
   ]
  },
  {
   "cell_type": "code",
   "execution_count": 32,
   "metadata": {},
   "outputs": [],
   "source": [
    "# write out data in jsonl format\n",
    "def write_jsonl(data_list: list, filename: str) -> None:\n",
    "    with open(filename, \"w\") as out:\n",
    "        for ddict in data_list:\n",
    "            jout = json.dumps(ddict) + \"\\n\"\n",
    "            out.write(jout)\n",
    "\n",
    "training_file_name = \"tmp_news_finetune_training.jsonl\"\n",
    "write_jsonl(training_data, training_file_name)\n",
    "\n",
    "validation_file_name = \"tmp_news_finetune_validation.jsonl\"\n",
    "write_jsonl(validation_data, validation_file_name)"
   ]
  },
  {
   "cell_type": "code",
   "execution_count": 33,
   "metadata": {},
   "outputs": [
    {
     "name": "stdout",
     "output_type": "stream",
     "text": [
      "{\"messages\": [{\"role\": \"system\", \"content\": \"You are a expert news editor. You give author name and sort news headline into 5 categories: BUSINESS, POLITICS, TRAVEL, SPORTS, WELLNESS.\"}, {\"role\": \"user\", \"content\": \"Headline: *Swoon*: The Dreamy Italian Villa From \\u2018Call Me By Your Name\\u2019 Is For Sale\\n\\n Author: PureWow, Editorial Partner\\n\\n\"}, {\"role\": \"assistant\", \"content\": \"This is a TRAVEL piece by PureWow, Editorial Partner\"}]}\n",
      "{\"messages\": [{\"role\": \"system\", \"content\": \"You are a expert news editor. You give author name and sort news headline into 5 categories: BUSINESS, POLITICS, TRAVEL, SPORTS, WELLNESS.\"}, {\"role\": \"user\", \"content\": \"Headline: Elon Musk's Estranged Father Has Child With Stepdaughter, Says It's 'God's Plan'\\n\\n Author: Jenna Amatulli\\n\\n\"}, {\"role\": \"assistant\", \"content\": \"This is a BUSINESS piece by Jenna Amatulli\"}]}\n"
     ]
    }
   ],
   "source": [
    "!head -n 2 tmp_news_finetune_training.jsonl"
   ]
  },
  {
   "cell_type": "markdown",
   "metadata": {},
   "source": [
    "#### Fine-tuning model\n",
    "- Upload file\n"
   ]
  },
  {
   "cell_type": "code",
   "execution_count": 45,
   "metadata": {},
   "outputs": [
    {
     "name": "stdout",
     "output_type": "stream",
     "text": [
      "Training file ID: file-1d0YWGGCxnWLsbGbXc4Gby90\n",
      "Validation file ID: file-801xl69X9bSsT7Y4VqUqGjIX\n"
     ]
    }
   ],
   "source": [
    "training_response = openai.File.create(\n",
    "    file=open(training_file_name, \"rb\"), purpose=\"fine-tune\"\n",
    ")\n",
    "training_file_id = training_response[\"id\"]\n",
    "\n",
    "validation_response = openai.File.create(\n",
    "    file=open(validation_file_name, \"rb\"), purpose=\"fine-tune\"\n",
    ")\n",
    "validation_file_id = validation_response[\"id\"]\n",
    "\n",
    "print(\"Training file ID:\", training_file_id)\n",
    "print(\"Validation file ID:\", validation_file_id)"
   ]
  },
  {
   "cell_type": "markdown",
   "metadata": {},
   "source": [
    "- Create fine-tuning job"
   ]
  },
  {
   "cell_type": "code",
   "execution_count": 46,
   "metadata": {},
   "outputs": [
    {
     "name": "stdout",
     "output_type": "stream",
     "text": [
      "Job ID: ftjob-8n7H3PvtiQz6h4V66n7Xryy0\n",
      "Status: validating_files\n"
     ]
    }
   ],
   "source": [
    "response = openai.FineTuningJob.create(\n",
    "    training_file=training_file_id,\n",
    "    validation_file=validation_file_id,\n",
    "    model=\"gpt-3.5-turbo\",\n",
    "    suffix=\"recipe-ner\",\n",
    ")\n",
    "\n",
    "job_id = response[\"id\"]\n",
    "\n",
    "print(\"Job ID:\", response[\"id\"])\n",
    "print(\"Status:\", response[\"status\"])"
   ]
  },
  {
   "cell_type": "markdown",
   "metadata": {},
   "source": [
    "- Check job status"
   ]
  },
  {
   "cell_type": "code",
   "execution_count": 48,
   "metadata": {},
   "outputs": [
    {
     "name": "stdout",
     "output_type": "stream",
     "text": [
      "Job ID: ftjob-8n7H3PvtiQz6h4V66n7Xryy0\n",
      "Status: succeeded\n",
      "Trained Tokens: 7136\n"
     ]
    }
   ],
   "source": [
    "response = openai.FineTuningJob.retrieve(job_id)\n",
    "\n",
    "print(\"Job ID:\", response[\"id\"])\n",
    "print(\"Status:\", response[\"status\"])\n",
    "print(\"Trained Tokens:\", response[\"trained_tokens\"])\n"
   ]
  },
  {
   "cell_type": "markdown",
   "metadata": {},
   "source": [
    "- Check job running processes after completion"
   ]
  },
  {
   "cell_type": "code",
   "execution_count": 49,
   "metadata": {},
   "outputs": [
    {
     "name": "stdout",
     "output_type": "stream",
     "text": [
      "Step 37/84: training loss=0.02, validation loss=0.00\n",
      "Step 38/84: training loss=0.00, validation loss=0.10\n",
      "Step 39/84: training loss=0.00, validation loss=0.00\n",
      "Step 40/84: training loss=0.00, validation loss=0.00\n",
      "Step 41/84: training loss=0.00, validation loss=0.00\n",
      "Step 42/84: training loss=0.00, validation loss=0.00\n",
      "Step 43/84: training loss=0.00, validation loss=0.00\n",
      "Step 44/84: training loss=0.00, validation loss=0.00\n",
      "Step 45/84: training loss=0.00, validation loss=0.00\n",
      "Step 46/84: training loss=0.00, validation loss=0.00\n",
      "Step 47/84: training loss=0.00, validation loss=0.00\n",
      "Step 48/84: training loss=0.00, validation loss=0.01\n",
      "Step 49/84: training loss=0.00, validation loss=0.00\n",
      "Step 50/84: training loss=0.00, validation loss=0.00\n",
      "Step 51/84: training loss=0.00, validation loss=0.00\n",
      "Step 52/84: training loss=0.00, validation loss=0.00\n",
      "Step 53/84: training loss=0.00, validation loss=0.00\n",
      "Step 54/84: training loss=0.00, validation loss=0.00\n",
      "Step 55/84: training loss=0.00, validation loss=0.00\n",
      "Step 56/84: training loss=0.00, validation loss=0.00\n",
      "Step 57/84: training loss=0.00, validation loss=0.00\n",
      "Step 58/84: training loss=0.00, validation loss=0.00\n",
      "Step 59/84: training loss=0.00, validation loss=0.00\n",
      "Step 60/84: training loss=0.00, validation loss=0.00\n",
      "Step 61/84: training loss=0.00, validation loss=0.00\n",
      "Step 62/84: training loss=0.00, validation loss=0.00\n",
      "Step 63/84: training loss=0.00, validation loss=0.00\n",
      "Step 64/84: training loss=0.00, validation loss=0.00\n",
      "Step 65/84: training loss=0.00, validation loss=0.00\n",
      "Step 66/84: training loss=0.00, validation loss=0.00\n",
      "Step 67/84: training loss=0.00, validation loss=0.00\n",
      "Step 68/84: training loss=0.00, validation loss=0.00\n",
      "Step 69/84: training loss=0.00, validation loss=0.00\n",
      "Step 70/84: training loss=0.00, validation loss=0.00\n",
      "Step 71/84: training loss=0.00, validation loss=0.00\n",
      "Step 72/84: training loss=0.00, validation loss=0.00\n",
      "Step 73/84: training loss=0.00, validation loss=0.00\n",
      "Step 74/84: training loss=0.00, validation loss=0.00\n",
      "Step 75/84: training loss=0.00, validation loss=0.00\n",
      "Step 76/84: training loss=0.00, validation loss=0.00\n",
      "Step 77/84: training loss=0.00, validation loss=0.00\n",
      "Step 78/84: training loss=0.00, validation loss=0.01\n",
      "Step 79/84: training loss=0.00, validation loss=0.00\n",
      "Step 80/84: training loss=0.00, validation loss=0.00\n",
      "Step 81/84: training loss=0.00, validation loss=0.00\n",
      "Step 82/84: training loss=0.00, validation loss=0.00\n",
      "Step 83/84: training loss=0.00, validation loss=0.00\n",
      "Step 84/84: training loss=0.00, validation loss=0.00\n",
      "New fine-tuned model created: ft:gpt-3.5-turbo-0613:kellogg-research-support:recipe-ner:8DzKAWX8\n",
      "The job has successfully completed\n"
     ]
    }
   ],
   "source": [
    "response = openai.FineTuningJob.list_events(id=job_id, limit=50)\n",
    "\n",
    "events = response[\"data\"]\n",
    "events.reverse()\n",
    "\n",
    "for event in events:\n",
    "    print(event[\"message\"])"
   ]
  },
  {
   "cell_type": "markdown",
   "metadata": {},
   "source": [
    "- Get fine-tuned model ID"
   ]
  },
  {
   "cell_type": "code",
   "execution_count": 50,
   "metadata": {},
   "outputs": [
    {
     "name": "stdout",
     "output_type": "stream",
     "text": [
      "Fine-tuned model ID: ft:gpt-3.5-turbo-0613:kellogg-research-support:recipe-ner:8DzKAWX8\n"
     ]
    }
   ],
   "source": [
    "response = openai.FineTuningJob.retrieve(job_id)\n",
    "fine_tuned_model_id = response[\"fine_tuned_model\"]\n",
    "\n",
    "if fine_tuned_model_id is None: \n",
    "    raise RuntimeError(\"Fine-tuned model ID not found. Your job has likely not been completed yet.\")\n",
    "\n",
    "print(\"Fine-tuned model ID:\", fine_tuned_model_id)"
   ]
  },
  {
   "cell_type": "markdown",
   "metadata": {},
   "source": [
    "#### Using the new fine-tuned model"
   ]
  },
  {
   "cell_type": "code",
   "execution_count": 11,
   "metadata": {},
   "outputs": [
    {
     "name": "stdout",
     "output_type": "stream",
     "text": [
      "[{'content': 'You are a expert news editor. You give author name and sort news '\n",
      "             'headline into 5 categories: BUSINESS, POLITICS, TRAVEL, SPORTS, '\n",
      "             'WELLNESS.',\n",
      "  'role': 'system'},\n",
      " {'content': \"Headline: 13 Hand Sanitizer Mistakes You're Probably Making\\n\"\n",
      "             '\\n'\n",
      "             ' Author: Nicole Pajer\\n'\n",
      "             '\\n',\n",
      "  'role': 'user'}]\n"
     ]
    }
   ],
   "source": [
    "test_df = news_df.loc[31:40]\n",
    "test_row = test_df.iloc[0]\n",
    "test_messages = []\n",
    "test_messages.append({\"role\": \"system\", \"content\": system_message})\n",
    "user_message = create_user_message(test_row)\n",
    "test_messages.append({\"role\": \"user\", \"content\": create_user_message(test_row)})\n",
    "\n",
    "pprint(test_messages)"
   ]
  },
  {
   "cell_type": "code",
   "execution_count": 12,
   "metadata": {},
   "outputs": [
    {
     "name": "stdout",
     "output_type": "stream",
     "text": [
      "This is a WELLNESS piece by Nicole Pajer\n",
      "-----\n",
      "{\n",
      "  \"id\": \"chatcmpl-8E0n57AifHLuXBOmcVtiZey2mQChE\",\n",
      "  \"object\": \"chat.completion\",\n",
      "  \"created\": 1698350323,\n",
      "  \"model\": \"ft:gpt-3.5-turbo-0613:kellogg-research-support:recipe-ner:8DzKAWX8\",\n",
      "  \"choices\": [\n",
      "    {\n",
      "      \"index\": 0,\n",
      "      \"message\": {\n",
      "        \"role\": \"assistant\",\n",
      "        \"content\": \"This is a WELLNESS piece by Nicole Pajer\"\n",
      "      },\n",
      "      \"finish_reason\": \"stop\"\n",
      "    }\n",
      "  ],\n",
      "  \"usage\": {\n",
      "    \"prompt_tokens\": 68,\n",
      "    \"completion_tokens\": 11,\n",
      "    \"total_tokens\": 79\n",
      "  }\n",
      "}\n"
     ]
    }
   ],
   "source": [
    "fine_tuned_model_id = \"ft:gpt-3.5-turbo-0613:kellogg-research-support:recipe-ner:8DzKAWX8\"\n",
    "response = openai.ChatCompletion.create(\n",
    "    model=fine_tuned_model_id, messages=test_messages, temperature=0, max_tokens=1500\n",
    ")\n",
    "print(response[\"choices\"][0][\"message\"][\"content\"])\n",
    "print(\"-----\")\n",
    "print(response)"
   ]
  },
  {
   "cell_type": "markdown",
   "metadata": {},
   "source": [
    "#### Original GPT-3.5-turbo & one-shot prompting\n",
    "- GPT-3.5-turbo"
   ]
  },
  {
   "cell_type": "code",
   "execution_count": 13,
   "metadata": {},
   "outputs": [
    {
     "name": "stdout",
     "output_type": "stream",
     "text": [
      "Category: WELLNESS\n",
      "-----\n",
      "{\n",
      "  \"id\": \"chatcmpl-8E0ocng3le3ad6Mkr7oqtONSxixEC\",\n",
      "  \"object\": \"chat.completion\",\n",
      "  \"created\": 1698350418,\n",
      "  \"model\": \"gpt-3.5-turbo-0613\",\n",
      "  \"choices\": [\n",
      "    {\n",
      "      \"index\": 0,\n",
      "      \"message\": {\n",
      "        \"role\": \"assistant\",\n",
      "        \"content\": \"Category: WELLNESS\"\n",
      "      },\n",
      "      \"finish_reason\": \"stop\"\n",
      "    }\n",
      "  ],\n",
      "  \"usage\": {\n",
      "    \"prompt_tokens\": 68,\n",
      "    \"completion_tokens\": 4,\n",
      "    \"total_tokens\": 72\n",
      "  }\n",
      "}\n"
     ]
    }
   ],
   "source": [
    "### gpt-3.5-turbo\n",
    "response = openai.ChatCompletion.create(\n",
    "    model=\"gpt-3.5-turbo\", messages=test_messages, temperature=0, max_tokens=1500\n",
    ")\n",
    "print(response[\"choices\"][0][\"message\"][\"content\"])\n",
    "print(\"-----\")\n",
    "print(response)"
   ]
  },
  {
   "cell_type": "markdown",
   "metadata": {},
   "source": [
    "- One-shot prompting"
   ]
  },
  {
   "cell_type": "code",
   "execution_count": 15,
   "metadata": {},
   "outputs": [
    {
     "name": "stdout",
     "output_type": "stream",
     "text": [
      "This is a WELLNESS article written by Nicole Pajer.\n",
      "-----\n",
      "{\n",
      "  \"id\": \"chatcmpl-8E0pF1dGwz0SWUak5O5MFddcZcHAZ\",\n",
      "  \"object\": \"chat.completion\",\n",
      "  \"created\": 1698350457,\n",
      "  \"model\": \"gpt-3.5-turbo-0613\",\n",
      "  \"choices\": [\n",
      "    {\n",
      "      \"index\": 0,\n",
      "      \"message\": {\n",
      "        \"role\": \"assistant\",\n",
      "        \"content\": \"This is a WELLNESS article written by Nicole Pajer.\"\n",
      "      },\n",
      "      \"finish_reason\": \"stop\"\n",
      "    }\n",
      "  ],\n",
      "  \"usage\": {\n",
      "    \"prompt_tokens\": 117,\n",
      "    \"completion_tokens\": 13,\n",
      "    \"total_tokens\": 130\n",
      "  }\n",
      "}\n"
     ]
    }
   ],
   "source": [
    "# one-shot prompting\n",
    "response = openai.ChatCompletion.create(\n",
    "    model=\"gpt-3.5-turbo\",\n",
    "    messages=[\n",
    "        {'content': 'You are a expert news editor. You give author name '\n",
    "                    'and sort news headline into 5 categories: BUSINESS, '\n",
    "                    'POLITICS, TRAVEL, SPORTS, WELLNESS.',\n",
    "         'role': 'system'},\n",
    "        {'content': 'Headline: Olympian Released From Beijing Isolation '\n",
    "                    'Facility After Emotional Video Plea\\n'\n",
    "                    '\\n'\n",
    "                    ' Author: TIM REYNOLDS, AP\\n'\n",
    "                    '\\n',\n",
    "         'role': 'user'},\n",
    "        {'content': 'This is a SPORTS piece by TIM REYNOLDS, AP',\n",
    "         'role': 'assistant'},\n",
    "        {'content': \"Headline: 13 Hand Sanitizer Mistakes You're Probably Making\\n\\n Author: Nicole Pajer\\n\\n\",\n",
    "         'role': 'user'},\n",
    "    ]\n",
    ")\n",
    "print(response[\"choices\"][0][\"message\"][\"content\"])\n",
    "print(\"-----\")\n",
    "print(response)"
   ]
  }
 ],
 "metadata": {
  "kernelspec": {
   "display_name": "Python 3",
   "language": "python",
   "name": "python3"
  },
  "language_info": {
   "codemirror_mode": {
    "name": "ipython",
    "version": 3
   },
   "file_extension": ".py",
   "mimetype": "text/x-python",
   "name": "python",
   "nbconvert_exporter": "python",
   "pygments_lexer": "ipython3",
   "version": "3.11.4"
  }
 },
 "nbformat": 4,
 "nbformat_minor": 2
}
